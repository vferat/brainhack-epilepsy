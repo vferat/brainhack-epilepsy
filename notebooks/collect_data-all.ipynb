{
 "cells": [
  {
   "cell_type": "code",
   "execution_count": 1,
   "metadata": {},
   "outputs": [
    {
     "name": "stderr",
     "output_type": "stream",
     "text": [
      "c:\\Users\\ferat\\.conda\\envs\\ep\\lib\\site-packages\\umap\\distances.py:1063: NumbaDeprecationWarning: \u001b[1mThe 'nopython' keyword argument was not supplied to the 'numba.jit' decorator. The implicit default value for this argument is currently False, but it will be changed to True in Numba 0.59.0. See https://numba.readthedocs.io/en/stable/reference/deprecation.html#deprecation-of-object-mode-fall-back-behaviour-when-using-jit for details.\u001b[0m\n",
      "  @numba.jit()\n",
      "c:\\Users\\ferat\\.conda\\envs\\ep\\lib\\site-packages\\umap\\distances.py:1071: NumbaDeprecationWarning: \u001b[1mThe 'nopython' keyword argument was not supplied to the 'numba.jit' decorator. The implicit default value for this argument is currently False, but it will be changed to True in Numba 0.59.0. See https://numba.readthedocs.io/en/stable/reference/deprecation.html#deprecation-of-object-mode-fall-back-behaviour-when-using-jit for details.\u001b[0m\n",
      "  @numba.jit()\n",
      "c:\\Users\\ferat\\.conda\\envs\\ep\\lib\\site-packages\\umap\\distances.py:1086: NumbaDeprecationWarning: \u001b[1mThe 'nopython' keyword argument was not supplied to the 'numba.jit' decorator. The implicit default value for this argument is currently False, but it will be changed to True in Numba 0.59.0. See https://numba.readthedocs.io/en/stable/reference/deprecation.html#deprecation-of-object-mode-fall-back-behaviour-when-using-jit for details.\u001b[0m\n",
      "  @numba.jit()\n",
      "c:\\Users\\ferat\\.conda\\envs\\ep\\lib\\site-packages\\tqdm\\auto.py:21: TqdmWarning: IProgress not found. Please update jupyter and ipywidgets. See https://ipywidgets.readthedocs.io/en/stable/user_install.html\n",
      "  from .autonotebook import tqdm as notebook_tqdm\n",
      "c:\\Users\\ferat\\.conda\\envs\\ep\\lib\\site-packages\\umap\\umap_.py:660: NumbaDeprecationWarning: \u001b[1mThe 'nopython' keyword argument was not supplied to the 'numba.jit' decorator. The implicit default value for this argument is currently False, but it will be changed to True in Numba 0.59.0. See https://numba.readthedocs.io/en/stable/reference/deprecation.html#deprecation-of-object-mode-fall-back-behaviour-when-using-jit for details.\u001b[0m\n",
      "  @numba.jit()\n",
      "c:\\Users\\ferat\\.conda\\envs\\ep\\lib\\site-packages\\antropy\\fractal.py:197: NumbaDeprecationWarning: \u001b[1mThe 'nopython' keyword argument was not supplied to the 'numba.jit' decorator. The implicit default value for this argument is currently False, but it will be changed to True in Numba 0.59.0. See https://numba.readthedocs.io/en/stable/reference/deprecation.html#deprecation-of-object-mode-fall-back-behaviour-when-using-jit for details.\u001b[0m\n",
      "  @jit((types.Array(types.float64, 1, \"C\", readonly=True), types.int32))\n"
     ]
    }
   ],
   "source": [
    "import os\n",
    "import mne\n",
    "import pycartool.io\n",
    "import pandas as pd\n",
    "import matplotlib.pyplot as plt\n",
    "%matplotlib qt\n",
    "\n",
    "import umap\n",
    "from features import *\n",
    "from my_io import *"
   ]
  },
  {
   "cell_type": "markdown",
   "metadata": {},
   "source": [
    "## Read EEG data"
   ]
  },
  {
   "cell_type": "code",
   "execution_count": 2,
   "metadata": {},
   "outputs": [],
   "source": [
    "def read_epiliptic_events(file, sfreq):\n",
    "    df = pd.read_csv(file, sep=\"\\t\", skiprows=1, names=['start', 'stop', 'label'])\n",
    "    df['start_time'] = df['start'] / sfreq\n",
    "    df['stop_time'] = df['stop'] / sfreq\n",
    "    df['duration'] = df['stop_time'] - df['start_time']\n",
    "    df['label'] = [l.split('_')[0] for l in df['label'].values]\n",
    "    annotations = mne.Annotations(df['start_time'], df['duration'], df['label'])\n",
    "    return(annotations)\n",
    "file = fr'V:\\switchdrive\\Brainhack\\KMR11\\d17\\Epileptic_events.mrk'\n",
    "\n",
    "def read_file(fname):\n",
    "    # Read Raw\n",
    "    base_path = os.path.dirname(fname) \n",
    "    raw = read_sef(fname)\n",
    "    # Read Bads\n",
    "    bad_annotations = mne.Annotations(0, 0, 'null')\n",
    "    for file in os.listdir(base_path):\n",
    "        if file.lower().startswith('bad'):\n",
    "            print(file)\n",
    "            path = os.path.join(base_path, file)\n",
    "            annotations = read_bad_file(path, raw.info['sfreq'])\n",
    "            bad_annotations += annotations\n",
    "    # Read epileptic\n",
    "    epileptic_annotations = mne.Annotations(0, 0, 'null')\n",
    "    for file in os.listdir(base_path):\n",
    "        if file.lower().startswith('epileptic'):\n",
    "            print(file)\n",
    "            path = os.path.join(base_path, file)\n",
    "            annotations = read_epiliptic_events(path, raw.info['sfreq'])\n",
    "            epileptic_annotations += annotations\n",
    "    # Read background\n",
    "    background_annotations = mne.Annotations(0, 0, 'null')\n",
    "    for file in os.listdir(base_path):\n",
    "        if file.lower().endswith('bck.mrk'):\n",
    "            print(file)\n",
    "            path = os.path.join(base_path, file)\n",
    "            annotations = read_background_events_file(path, raw.info['sfreq'])\n",
    "            background_annotations += annotations\n",
    "    annotations = epileptic_annotations + bad_annotations + background_annotations\n",
    "    raw.set_annotations(annotations) \n",
    "    return(raw)"
   ]
  },
  {
   "cell_type": "code",
   "execution_count": 42,
   "metadata": {
    "scrolled": true
   },
   "outputs": [
    {
     "data": {
      "text/plain": [
       "['Z:\\\\Animal\\\\Fabien\\\\DATA\\\\KMR\\\\KMR1\\\\KMR1_d11\\\\KMR1_d11_Raw_DS.sef',\n",
       " 'Z:\\\\Animal\\\\Fabien\\\\DATA\\\\KMR\\\\KMR1\\\\KMR1_d13\\\\KMR1_d13_Raw_DS.sef',\n",
       " 'Z:\\\\Animal\\\\Fabien\\\\DATA\\\\KMR\\\\KMR1\\\\KMR1_d15\\\\KMR1_d15_Raw_DS.sef',\n",
       " 'Z:\\\\Animal\\\\Fabien\\\\DATA\\\\KMR\\\\KMR1\\\\KMR1_d17\\\\KMR1_d17_Raw_DS.sef',\n",
       " 'Z:\\\\Animal\\\\Fabien\\\\DATA\\\\KMR\\\\KMR1\\\\KMR1_d19\\\\KMR1_d19_Raw_DS.sef',\n",
       " 'Z:\\\\Animal\\\\Fabien\\\\DATA\\\\KMR\\\\KMR1\\\\KMR1_d21\\\\KMR1_d21_Raw_DS.sef',\n",
       " 'Z:\\\\Animal\\\\Fabien\\\\DATA\\\\KMR\\\\KMR1\\\\KMR1_d23\\\\KMR1_d23_Raw_DS.sef',\n",
       " 'Z:\\\\Animal\\\\Fabien\\\\DATA\\\\KMR\\\\KMR1\\\\KMR1_d25\\\\KMR1_d25_Raw_DS.sef',\n",
       " 'Z:\\\\Animal\\\\Fabien\\\\DATA\\\\KMR\\\\KMR1\\\\KMR1_d27\\\\KMR1_d27_Raw_DS.sef',\n",
       " 'Z:\\\\Animal\\\\Fabien\\\\DATA\\\\KMR\\\\KMR1\\\\KMR1_d29\\\\KMR1_d29_Raw_DS.sef',\n",
       " 'Z:\\\\Animal\\\\Fabien\\\\DATA\\\\KMR\\\\KMR1\\\\KMR1_d3\\\\KMR1_d3_Raw_DS.sef',\n",
       " 'Z:\\\\Animal\\\\Fabien\\\\DATA\\\\KMR\\\\KMR1\\\\KMR1_d5\\\\KMR1_d5_Raw_DS.sef',\n",
       " 'Z:\\\\Animal\\\\Fabien\\\\DATA\\\\KMR\\\\KMR1\\\\KMR1_d7\\\\KMR1_d7_Raw_DS.sef',\n",
       " 'Z:\\\\Animal\\\\Fabien\\\\DATA\\\\KMR\\\\KMR1\\\\KMR1_d9\\\\KMR1_d9_Raw_DS.sef',\n",
       " 'Z:\\\\Animal\\\\Fabien\\\\DATA\\\\KMR\\\\KMR11\\\\KMR11_d11\\\\KMR11_d11_Raw_DS.sef',\n",
       " 'Z:\\\\Animal\\\\Fabien\\\\DATA\\\\KMR\\\\KMR11\\\\KMR11_d13\\\\KMR11_d13_Raw_DS.sef',\n",
       " 'Z:\\\\Animal\\\\Fabien\\\\DATA\\\\KMR\\\\KMR11\\\\KMR11_d15\\\\KMR11_d15_Raw_DS.sef',\n",
       " 'Z:\\\\Animal\\\\Fabien\\\\DATA\\\\KMR\\\\KMR11\\\\KMR11_d17\\\\KMR11_d17_Raw_DS.sef',\n",
       " 'Z:\\\\Animal\\\\Fabien\\\\DATA\\\\KMR\\\\KMR11\\\\KMR11_d19\\\\KMR11_d19_Raw_DS.sef',\n",
       " 'Z:\\\\Animal\\\\Fabien\\\\DATA\\\\KMR\\\\KMR11\\\\KMR11_d21\\\\KMR11_d21_Raw_DS.sef',\n",
       " 'Z:\\\\Animal\\\\Fabien\\\\DATA\\\\KMR\\\\KMR11\\\\KMR11_d23\\\\KMR11_d23_Raw_DS.sef',\n",
       " 'Z:\\\\Animal\\\\Fabien\\\\DATA\\\\KMR\\\\KMR11\\\\KMR11_d25\\\\KMR11_d25_Raw_DS.sef',\n",
       " 'Z:\\\\Animal\\\\Fabien\\\\DATA\\\\KMR\\\\KMR11\\\\KMR11_d27\\\\KMR11_d27_Raw_DS.sef',\n",
       " 'Z:\\\\Animal\\\\Fabien\\\\DATA\\\\KMR\\\\KMR11\\\\KMR11_d29\\\\KMR11_d29_Raw_DS.sef',\n",
       " 'Z:\\\\Animal\\\\Fabien\\\\DATA\\\\KMR\\\\KMR11\\\\KMR11_d3\\\\KMR11_d3_Raw_DS.sef',\n",
       " 'Z:\\\\Animal\\\\Fabien\\\\DATA\\\\KMR\\\\KMR11\\\\KMR11_d5\\\\KMR11_d5_Raw_DS.sef',\n",
       " 'Z:\\\\Animal\\\\Fabien\\\\DATA\\\\KMR\\\\KMR11\\\\KMR11_d7\\\\KMR11_d7_Raw_DS.sef',\n",
       " 'Z:\\\\Animal\\\\Fabien\\\\DATA\\\\KMR\\\\KMR11\\\\KMR11_d9\\\\KMR11_d9_Raw_DS.sef',\n",
       " 'Z:\\\\Animal\\\\Fabien\\\\DATA\\\\KMR\\\\KMR12\\\\KMR12_d11\\\\KMR12_d11_Raw_DS.sef',\n",
       " 'Z:\\\\Animal\\\\Fabien\\\\DATA\\\\KMR\\\\KMR12\\\\KMR12_d13\\\\KMR12_d13_Raw_DS.sef',\n",
       " 'Z:\\\\Animal\\\\Fabien\\\\DATA\\\\KMR\\\\KMR12\\\\KMR12_d15\\\\KMR12_d15_Raw_DS.sef',\n",
       " 'Z:\\\\Animal\\\\Fabien\\\\DATA\\\\KMR\\\\KMR12\\\\KMR12_d17\\\\KMR12_d17_Raw_DS.sef',\n",
       " 'Z:\\\\Animal\\\\Fabien\\\\DATA\\\\KMR\\\\KMR12\\\\KMR12_d19\\\\KMR12_d19_Raw_DS.sef',\n",
       " 'Z:\\\\Animal\\\\Fabien\\\\DATA\\\\KMR\\\\KMR12\\\\KMR12_d21\\\\KMR12_d21_Raw_DS.sef',\n",
       " 'Z:\\\\Animal\\\\Fabien\\\\DATA\\\\KMR\\\\KMR12\\\\KMR12_d23\\\\KMR12_d23_Raw_DS.sef',\n",
       " 'Z:\\\\Animal\\\\Fabien\\\\DATA\\\\KMR\\\\KMR12\\\\KMR12_d25\\\\KMR12_d25_Raw_DS.sef',\n",
       " 'Z:\\\\Animal\\\\Fabien\\\\DATA\\\\KMR\\\\KMR12\\\\KMR12_d27\\\\KMR12_d27_Raw_DS.sef',\n",
       " 'Z:\\\\Animal\\\\Fabien\\\\DATA\\\\KMR\\\\KMR12\\\\KMR12_d3\\\\KMR12_d3_Raw_DS.sef',\n",
       " 'Z:\\\\Animal\\\\Fabien\\\\DATA\\\\KMR\\\\KMR12\\\\KMR12_d5\\\\KMR12_d5_Raw_DS.sef',\n",
       " 'Z:\\\\Animal\\\\Fabien\\\\DATA\\\\KMR\\\\KMR12\\\\KMR12_d7\\\\KMR12_d7_Raw_DS.sef',\n",
       " 'Z:\\\\Animal\\\\Fabien\\\\DATA\\\\KMR\\\\KMR12\\\\KMR12_d9\\\\KMR12_d9_Raw_DS.sef',\n",
       " 'Z:\\\\Animal\\\\Fabien\\\\DATA\\\\KMR\\\\KMR16\\\\KMR16_d11\\\\KMR16_d11_Raw_DS.sef',\n",
       " 'Z:\\\\Animal\\\\Fabien\\\\DATA\\\\KMR\\\\KMR16\\\\KMR16_d13\\\\KMR16_d13_Raw_DS.sef',\n",
       " 'Z:\\\\Animal\\\\Fabien\\\\DATA\\\\KMR\\\\KMR16\\\\KMR16_d15\\\\KMR16_d15_Raw_DS.sef',\n",
       " 'Z:\\\\Animal\\\\Fabien\\\\DATA\\\\KMR\\\\KMR16\\\\KMR16_d17\\\\KMR16_d17_Raw_DS.sef',\n",
       " 'Z:\\\\Animal\\\\Fabien\\\\DATA\\\\KMR\\\\KMR16\\\\KMR16_d19\\\\KMR16_d19_Raw_DS.sef',\n",
       " 'Z:\\\\Animal\\\\Fabien\\\\DATA\\\\KMR\\\\KMR16\\\\KMR16_d21\\\\KMR16_d21_Raw_DS.sef',\n",
       " 'Z:\\\\Animal\\\\Fabien\\\\DATA\\\\KMR\\\\KMR16\\\\KMR16_d23\\\\KMR16_d23_Raw_DS.sef',\n",
       " 'Z:\\\\Animal\\\\Fabien\\\\DATA\\\\KMR\\\\KMR16\\\\KMR16_d25\\\\KMR16_d25_Raw_DS.sef',\n",
       " 'Z:\\\\Animal\\\\Fabien\\\\DATA\\\\KMR\\\\KMR16\\\\KMR16_d27\\\\KMR16_d27_Raw_DS.sef',\n",
       " 'Z:\\\\Animal\\\\Fabien\\\\DATA\\\\KMR\\\\KMR16\\\\KMR16_d29\\\\KMR16_d29_Raw_DS.sef',\n",
       " 'Z:\\\\Animal\\\\Fabien\\\\DATA\\\\KMR\\\\KMR16\\\\KMR16_d3\\\\KMR16_d3_Raw_DS.sef',\n",
       " 'Z:\\\\Animal\\\\Fabien\\\\DATA\\\\KMR\\\\KMR16\\\\KMR16_d5\\\\KMR16_d5_Raw_DS.sef',\n",
       " 'Z:\\\\Animal\\\\Fabien\\\\DATA\\\\KMR\\\\KMR16\\\\KMR16_d7\\\\KMR16_d7_Raw_DS.sef',\n",
       " 'Z:\\\\Animal\\\\Fabien\\\\DATA\\\\KMR\\\\KMR16\\\\KMR16_d9\\\\KMR16_d9_Raw_DS.sef',\n",
       " 'Z:\\\\Animal\\\\Fabien\\\\DATA\\\\KMR\\\\KMR17\\\\KMR17_d11\\\\KMR17_d11_Raw_DS.sef',\n",
       " 'Z:\\\\Animal\\\\Fabien\\\\DATA\\\\KMR\\\\KMR17\\\\KMR17_d13\\\\KMR17_d13_Raw_DS.sef',\n",
       " 'Z:\\\\Animal\\\\Fabien\\\\DATA\\\\KMR\\\\KMR17\\\\KMR17_d15\\\\KMR17_d15_Raw_DS.sef',\n",
       " 'Z:\\\\Animal\\\\Fabien\\\\DATA\\\\KMR\\\\KMR17\\\\KMR17_d17\\\\KMR17_d17_Raw_DS.sef',\n",
       " 'Z:\\\\Animal\\\\Fabien\\\\DATA\\\\KMR\\\\KMR17\\\\KMR17_d19\\\\KMR17_d19_Raw_DS.sef',\n",
       " 'Z:\\\\Animal\\\\Fabien\\\\DATA\\\\KMR\\\\KMR17\\\\KMR17_d21\\\\KMR17_d21_Raw_DS.sef',\n",
       " 'Z:\\\\Animal\\\\Fabien\\\\DATA\\\\KMR\\\\KMR17\\\\KMR17_d23\\\\KMR17_d23_Raw_DS.sef',\n",
       " 'Z:\\\\Animal\\\\Fabien\\\\DATA\\\\KMR\\\\KMR17\\\\KMR17_d25\\\\KMR17_d25_Raw_DS.sef',\n",
       " 'Z:\\\\Animal\\\\Fabien\\\\DATA\\\\KMR\\\\KMR17\\\\KMR17_d27\\\\KMR17_d27_Raw_DS.sef',\n",
       " 'Z:\\\\Animal\\\\Fabien\\\\DATA\\\\KMR\\\\KMR17\\\\KMR17_d29\\\\KMR17_d29_Raw_DS.sef',\n",
       " 'Z:\\\\Animal\\\\Fabien\\\\DATA\\\\KMR\\\\KMR17\\\\KMR17_d3\\\\KMR17_d3_Raw_DS.sef',\n",
       " 'Z:\\\\Animal\\\\Fabien\\\\DATA\\\\KMR\\\\KMR17\\\\KMR17_d5\\\\KMR17_d5_Raw_DS.sef',\n",
       " 'Z:\\\\Animal\\\\Fabien\\\\DATA\\\\KMR\\\\KMR17\\\\KMR17_d7\\\\KMR17_d7_Raw_DS.sef',\n",
       " 'Z:\\\\Animal\\\\Fabien\\\\DATA\\\\KMR\\\\KMR17\\\\KMR17_d9\\\\KMR17_d9_Raw_DS.sef',\n",
       " 'Z:\\\\Animal\\\\Fabien\\\\DATA\\\\KMR\\\\KMR3\\\\KMR3_d11\\\\KMR3_d11_Raw_DS.sef',\n",
       " 'Z:\\\\Animal\\\\Fabien\\\\DATA\\\\KMR\\\\KMR3\\\\KMR3_d13\\\\KMR3_d13_Raw_DS.sef',\n",
       " 'Z:\\\\Animal\\\\Fabien\\\\DATA\\\\KMR\\\\KMR3\\\\KMR3_d15\\\\KMR3_d15_Raw_DS.sef',\n",
       " 'Z:\\\\Animal\\\\Fabien\\\\DATA\\\\KMR\\\\KMR3\\\\KMR3_d17\\\\KMR3_d17_Raw_DS.sef',\n",
       " 'Z:\\\\Animal\\\\Fabien\\\\DATA\\\\KMR\\\\KMR3\\\\KMR3_d19\\\\KMR3_d19_Raw_DS.sef',\n",
       " 'Z:\\\\Animal\\\\Fabien\\\\DATA\\\\KMR\\\\KMR3\\\\KMR3_d21\\\\KMR3_d21_Raw_DS.sef',\n",
       " 'Z:\\\\Animal\\\\Fabien\\\\DATA\\\\KMR\\\\KMR3\\\\KMR3_d23\\\\KMR3_d23_Raw_DS.sef',\n",
       " 'Z:\\\\Animal\\\\Fabien\\\\DATA\\\\KMR\\\\KMR3\\\\KMR3_d25\\\\KMR3_d25_Raw_DS.sef',\n",
       " 'Z:\\\\Animal\\\\Fabien\\\\DATA\\\\KMR\\\\KMR3\\\\KMR3_d27\\\\KMR3_d27_Raw_DS.sef',\n",
       " 'Z:\\\\Animal\\\\Fabien\\\\DATA\\\\KMR\\\\KMR3\\\\KMR3_d29\\\\KMR3_d29_Raw_DS.sef',\n",
       " 'Z:\\\\Animal\\\\Fabien\\\\DATA\\\\KMR\\\\KMR3\\\\KMR3_d3\\\\KMR3_d3_Raw_DS.sef',\n",
       " 'Z:\\\\Animal\\\\Fabien\\\\DATA\\\\KMR\\\\KMR3\\\\KMR3_d5\\\\KMR3_d5_Raw_DS.sef',\n",
       " 'Z:\\\\Animal\\\\Fabien\\\\DATA\\\\KMR\\\\KMR3\\\\KMR3_d7\\\\KMR3_d7_Raw_DS.sef',\n",
       " 'Z:\\\\Animal\\\\Fabien\\\\DATA\\\\KMR\\\\KMR3\\\\KMR3_d9\\\\KMR3_d9_Raw_DS.sef',\n",
       " 'Z:\\\\Animal\\\\Fabien\\\\DATA\\\\KMR\\\\KMR6\\\\KMR6_d11\\\\KMR6_d11_Raw_DS.sef',\n",
       " 'Z:\\\\Animal\\\\Fabien\\\\DATA\\\\KMR\\\\KMR6\\\\KMR6_d13\\\\KMR6_d13_Raw_DS.sef',\n",
       " 'Z:\\\\Animal\\\\Fabien\\\\DATA\\\\KMR\\\\KMR6\\\\KMR6_d15\\\\KMR6_d15_Raw_DS.sef',\n",
       " 'Z:\\\\Animal\\\\Fabien\\\\DATA\\\\KMR\\\\KMR6\\\\KMR6_d17\\\\KMR6_d17_Raw_DS.sef',\n",
       " 'Z:\\\\Animal\\\\Fabien\\\\DATA\\\\KMR\\\\KMR6\\\\KMR6_d19\\\\KMR6_d19_Raw_DS.sef',\n",
       " 'Z:\\\\Animal\\\\Fabien\\\\DATA\\\\KMR\\\\KMR6\\\\KMR6_d21\\\\KMR6_d21_Raw_DS.sef',\n",
       " 'Z:\\\\Animal\\\\Fabien\\\\DATA\\\\KMR\\\\KMR6\\\\KMR6_d23\\\\KMR6_d23_Raw_DS.sef',\n",
       " 'Z:\\\\Animal\\\\Fabien\\\\DATA\\\\KMR\\\\KMR6\\\\KMR6_d25\\\\KMR6_d25_Raw_DS.sef',\n",
       " 'Z:\\\\Animal\\\\Fabien\\\\DATA\\\\KMR\\\\KMR6\\\\KMR6_d27\\\\KMR6_d27_Raw_DS.sef',\n",
       " 'Z:\\\\Animal\\\\Fabien\\\\DATA\\\\KMR\\\\KMR6\\\\KMR6_d29\\\\KMR6_d29_Raw_DS.sef',\n",
       " 'Z:\\\\Animal\\\\Fabien\\\\DATA\\\\KMR\\\\KMR6\\\\KMR6_d3\\\\KMR6_d3_Raw_DS.sef',\n",
       " 'Z:\\\\Animal\\\\Fabien\\\\DATA\\\\KMR\\\\KMR6\\\\KMR6_d5\\\\KMR6_d5_Raw_DS.sef',\n",
       " 'Z:\\\\Animal\\\\Fabien\\\\DATA\\\\KMR\\\\KMR6\\\\KMR6_d7\\\\KMR6_d7_Raw_DS.sef',\n",
       " 'Z:\\\\Animal\\\\Fabien\\\\DATA\\\\KMR\\\\KMR6\\\\KMR6_d9\\\\KMR6_d9_Raw_DS.sef',\n",
       " 'Z:\\\\Animal\\\\Fabien\\\\DATA\\\\KMR\\\\KMR7\\\\KMR7_d11\\\\KMR7_d11_Raw_DS.sef',\n",
       " 'Z:\\\\Animal\\\\Fabien\\\\DATA\\\\KMR\\\\KMR7\\\\KMR7_d13\\\\KMR7_d13_Raw_DS.sef',\n",
       " 'Z:\\\\Animal\\\\Fabien\\\\DATA\\\\KMR\\\\KMR7\\\\KMR7_d15\\\\KMR7_d15_Raw_DS.sef',\n",
       " 'Z:\\\\Animal\\\\Fabien\\\\DATA\\\\KMR\\\\KMR7\\\\KMR7_d17\\\\KMR7_d17_Raw_DS.sef',\n",
       " 'Z:\\\\Animal\\\\Fabien\\\\DATA\\\\KMR\\\\KMR7\\\\KMR7_d19\\\\KMR7_d19_Raw_DS.sef',\n",
       " 'Z:\\\\Animal\\\\Fabien\\\\DATA\\\\KMR\\\\KMR7\\\\KMR7_d21\\\\KMR7_d21_Raw_DS.sef',\n",
       " 'Z:\\\\Animal\\\\Fabien\\\\DATA\\\\KMR\\\\KMR7\\\\KMR7_d23\\\\KMR7_d23_Raw_DS.sef',\n",
       " 'Z:\\\\Animal\\\\Fabien\\\\DATA\\\\KMR\\\\KMR7\\\\KMR7_d25\\\\KMR7_d25_Raw_DS.sef',\n",
       " 'Z:\\\\Animal\\\\Fabien\\\\DATA\\\\KMR\\\\KMR7\\\\KMR7_d27\\\\KMR7_d27_Raw_DS.sef',\n",
       " 'Z:\\\\Animal\\\\Fabien\\\\DATA\\\\KMR\\\\KMR7\\\\KMR7_d29\\\\KMR7_d29_Raw_DS.sef',\n",
       " 'Z:\\\\Animal\\\\Fabien\\\\DATA\\\\KMR\\\\KMR7\\\\KMR7_d3\\\\KMR17_d3_Raw_DS.sef',\n",
       " 'Z:\\\\Animal\\\\Fabien\\\\DATA\\\\KMR\\\\KMR7\\\\KMR7_d5\\\\KMR7_d5_Raw_DS.sef',\n",
       " 'Z:\\\\Animal\\\\Fabien\\\\DATA\\\\KMR\\\\KMR7\\\\KMR7_d7\\\\KMR7_d7_Raw_DS.sef',\n",
       " 'Z:\\\\Animal\\\\Fabien\\\\DATA\\\\KMR\\\\KMR7\\\\KMR7_d9\\\\KMR7_d9_Raw_DS.sef']"
      ]
     },
     "execution_count": 42,
     "metadata": {},
     "output_type": "execute_result"
    }
   ],
   "source": [
    "files = list()\n",
    "\n",
    "subjects_folder = fr'Z:\\Animal\\Fabien\\DATA\\KMR'\n",
    "for subject in os.listdir(subjects_folder):\n",
    "    subject_folder = os.path.join(subjects_folder, subject)\n",
    "    if os.path.isdir(subject_folder):\n",
    "        for day in os.listdir(subject_folder):\n",
    "            day_folder = os.path.join(subject_folder, day)\n",
    "            if os.path.isdir(day_folder):\n",
    "                for file in os.listdir(day_folder):\n",
    "                    if file.endswith('.sef'):\n",
    "                        file = os.path.join(day_folder, file)\n",
    "                        files.append(file)\n",
    "files"
   ]
  },
  {
   "cell_type": "code",
   "execution_count": 44,
   "metadata": {},
   "outputs": [],
   "source": [
    "def extract_features(file, epoch_duration, bands):\n",
    "    try:\n",
    "        subject = os.path.basename(file).split('_')[0]\n",
    "        day = os.path.basename(file).split('_')[1] \n",
    "\n",
    "        features = []\n",
    "        column_names = []\n",
    "\n",
    "        raw = read_file(file)\n",
    "        epochs = mne.make_fixed_length_epochs(raw, duration=epoch_duration, preload=True)\n",
    "        \n",
    "        for band in bands:                \n",
    "            epoch_bands = epochs.copy().filter(band[0], band[1])\n",
    "            for ch_name in epoch_bands.ch_names:\n",
    "                epoch_band_channel = epoch_bands.copy().pick(ch_name)\n",
    "                data = epoch_band_channel.get_data()\n",
    "\n",
    "                # Extract Features\n",
    "                activity_features = activity(data)\n",
    "                features.append(activity_features)\n",
    "                column_names += [f'{ch_name}_{band}_activity_feature_{i}' for i in range(activity_features.shape[-1])]\n",
    "\n",
    "                mobility_features = mobility(data)\n",
    "                features.append(mobility_features)\n",
    "                column_names += [f'{ch_name}_{band}_mobility_feature_{i}' for i in range(mobility_features.shape[-1])]\n",
    "\n",
    "                complexity_features = complexity(data)\n",
    "                features.append(complexity_features)\n",
    "                column_names += [f'{ch_name}_{band}_complexity_feature_{i}' for i in range(complexity_features.shape[-1])]\n",
    "\n",
    "                time_features = extract_time_feat(data)\n",
    "                time_features = time_features.reshape((time_features.shape[0],-1))\n",
    "                features.append(time_features)\n",
    "                column_names += [f'{ch_name}_{band}_time_feature_{i}' for i in range(time_features.shape[-1])]\n",
    "\n",
    "                frequency_features = extract_freq_feat(data, sfreq=epochs.info['sfreq'])\n",
    "                frequency_features = frequency_features.reshape((frequency_features.shape[0],-1))\n",
    "                features.append(frequency_features)\n",
    "                column_names += [f'{ch_name}_{band}_frequency_feature_{i}' for i in range(frequency_features.shape[-1])]\n",
    "\n",
    "                information_features = extract_information_feat(data, sfreq=epochs.info['sfreq'])\n",
    "                information_features = information_features.reshape((information_features.shape[0],-1))\n",
    "                features.append(information_features)\n",
    "                column_names += [f'{ch_name}_{band}_information_feature_{i}' for i in range(information_features.shape[-1])]\n",
    "\n",
    "                dwt_features = extract_dwt_feat(data)\n",
    "                dwt_features = dwt_features.reshape((dwt_features.shape[0],-1))\n",
    "                features.append(dwt_features)\n",
    "                column_names += [f'{ch_name}_{band}_dwt_feature_{i}' for i in range(dwt_features.shape[-1])]\n",
    "\n",
    "            #events_ = np.array([list(events_id.keys())[list(events_id.values()).index(event)] for event in epochs.events[:,2]]).reshape(-1,1)\n",
    "            #features.append(events_)\n",
    "            #column_names += ['event_name']\n",
    "\n",
    "            ts = epochs.events[:,0].reshape(-1,1) / raw.info['sfreq']\n",
    "            features.append(ts)\n",
    "            column_names += ['start']\n",
    "\n",
    "            days = np.array([day] * len(epochs)).reshape(-1,1)\n",
    "            features.append(days)\n",
    "            column_names += ['day']\n",
    "\n",
    "            subjects = np.array([subject] * len(epochs)).reshape(-1,1)\n",
    "            features.append(subjects)\n",
    "            column_names += ['subject']\n",
    "        \n",
    "            features = np.hstack(features)\n",
    "            df = pd.DataFrame(features, columns=column_names)\n",
    "            return(df)\n",
    "    except Exception as e:\n",
    "        print(e)\n",
    "        return(e)"
   ]
  },
  {
   "cell_type": "code",
   "execution_count": 5,
   "metadata": {
    "scrolled": true
   },
   "outputs": [],
   "source": [
    "from joblib import Parallel, delayed\n",
    "\n",
    "# Config\n",
    "epoch_duration = 1\n",
    "bands = [(1,30), (80,200), (250,500)]\n",
    "\n",
    "r = Parallel(n_jobs=10)(delayed(extract_features)(file, epoch_duration, bands) for file in files[:8])"
   ]
  },
  {
   "cell_type": "code",
   "execution_count": 19,
   "metadata": {},
   "outputs": [
    {
     "data": {
      "text/plain": [
       "0      KMR\n",
       "1      KMR\n",
       "2      KMR\n",
       "3      KMR\n",
       "4      KMR\n",
       "      ... \n",
       "577    KMR\n",
       "578    KMR\n",
       "579    KMR\n",
       "580    KMR\n",
       "581    KMR\n",
       "Name: day, Length: 582, dtype: object"
      ]
     },
     "execution_count": 19,
     "metadata": {},
     "output_type": "execute_result"
    }
   ],
   "source": [
    "r[2]['day']"
   ]
  },
  {
   "cell_type": "code",
   "execution_count": 7,
   "metadata": {},
   "outputs": [],
   "source": [
    "df_col_merged = pd.concat(r, axis=1)"
   ]
  },
  {
   "cell_type": "code",
   "execution_count": 13,
   "metadata": {},
   "outputs": [],
   "source": [
    "df_col_merged.to_csv('test.tsv', sep=\"\\t\")"
   ]
  },
  {
   "cell_type": "code",
   "execution_count": 23,
   "metadata": {},
   "outputs": [],
   "source": [
    "df = pd.DataFrame(np.vstack(all_features), columns=column_names)\n",
    "df['code'] =  pd.Categorical(df.event_name).codes\n",
    "features = [column for column in df.columns if \"feature\" in column]\n",
    "non_features = [column for column in df.columns if not \"feature\" in column]\n",
    "\n",
    "df[features].to_csv('features.tsv',sep='\\t', index=False, header=False)\n",
    "df[non_features].to_csv('non_features.tsv',sep='\\t')"
   ]
  },
  {
   "cell_type": "code",
   "execution_count": 24,
   "metadata": {},
   "outputs": [],
   "source": [
    "fit = umap.UMAP(n_neighbors=15, n_components=2)\n",
    "data = df[features].values"
   ]
  },
  {
   "cell_type": "code",
   "execution_count": 26,
   "metadata": {},
   "outputs": [
    {
     "name": "stderr",
     "output_type": "stream",
     "text": [
      "c:\\Users\\ferat\\.conda\\envs\\ep\\lib\\site-packages\\sklearn\\manifold\\_spectral_embedding.py:274: UserWarning: Graph is not fully connected, spectral embedding may not work as expected.\n",
      "  warnings.warn(\n",
      "No artists with labels found to put in legend.  Note that artists whose label start with an underscore are ignored when legend() is called with no argument.\n"
     ]
    },
    {
     "data": {
      "text/plain": [
       "<matplotlib.legend.Legend at 0x195658bb6d0>"
      ]
     },
     "execution_count": 26,
     "metadata": {},
     "output_type": "execute_result"
    }
   ],
   "source": [
    "u = fit.fit_transform(data)\n",
    "#df['data'] = [data for data in np.vstack(datas)[:,0,:]]\n",
    "df['x1'] = u[:,0].reshape(-1)\n",
    "df['x2'] = u[:,1].reshape(-1)\n",
    "plt.scatter(u[:,0], u[:,1], c=df['code'] , s=1)\n",
    "plt.legend()"
   ]
  },
  {
   "cell_type": "code",
   "execution_count": 29,
   "metadata": {
    "scrolled": false
   },
   "outputs": [
    {
     "name": "stderr",
     "output_type": "stream",
     "text": [
      "c:\\Users\\ferat\\.conda\\envs\\ep\\lib\\site-packages\\umap\\plot.py:203: NumbaDeprecationWarning: \u001b[1mThe 'nopython' keyword argument was not supplied to the 'numba.jit' decorator. The implicit default value for this argument is currently False, but it will be changed to True in Numba 0.59.0. See https://numba.readthedocs.io/en/stable/reference/deprecation.html#deprecation-of-object-mode-fall-back-behaviour-when-using-jit for details.\u001b[0m\n",
      "  @numba.jit()\n"
     ]
    },
    {
     "data": {
      "text/html": [
       "<div class=\"bk-root\">\n",
       "        <a href=\"https://bokeh.org\" target=\"_blank\" class=\"bk-logo bk-logo-small bk-logo-notebook\"></a>\n",
       "        <span id=\"1002\">Loading BokehJS ...</span>\n",
       "    </div>\n"
      ]
     },
     "metadata": {},
     "output_type": "display_data"
    },
    {
     "data": {
      "application/javascript": "(function(root) {\n  function now() {\n    return new Date();\n  }\n\n  const force = true;\n\n  if (typeof root._bokeh_onload_callbacks === \"undefined\" || force === true) {\n    root._bokeh_onload_callbacks = [];\n    root._bokeh_is_loading = undefined;\n  }\n\nconst JS_MIME_TYPE = 'application/javascript';\n  const HTML_MIME_TYPE = 'text/html';\n  const EXEC_MIME_TYPE = 'application/vnd.bokehjs_exec.v0+json';\n  const CLASS_NAME = 'output_bokeh rendered_html';\n\n  /**\n   * Render data to the DOM node\n   */\n  function render(props, node) {\n    const script = document.createElement(\"script\");\n    node.appendChild(script);\n  }\n\n  /**\n   * Handle when an output is cleared or removed\n   */\n  function handleClearOutput(event, handle) {\n    const cell = handle.cell;\n\n    const id = cell.output_area._bokeh_element_id;\n    const server_id = cell.output_area._bokeh_server_id;\n    // Clean up Bokeh references\n    if (id != null && id in Bokeh.index) {\n      Bokeh.index[id].model.document.clear();\n      delete Bokeh.index[id];\n    }\n\n    if (server_id !== undefined) {\n      // Clean up Bokeh references\n      const cmd_clean = \"from bokeh.io.state import curstate; print(curstate().uuid_to_server['\" + server_id + \"'].get_sessions()[0].document.roots[0]._id)\";\n      cell.notebook.kernel.execute(cmd_clean, {\n        iopub: {\n          output: function(msg) {\n            const id = msg.content.text.trim();\n            if (id in Bokeh.index) {\n              Bokeh.index[id].model.document.clear();\n              delete Bokeh.index[id];\n            }\n          }\n        }\n      });\n      // Destroy server and session\n      const cmd_destroy = \"import bokeh.io.notebook as ion; ion.destroy_server('\" + server_id + \"')\";\n      cell.notebook.kernel.execute(cmd_destroy);\n    }\n  }\n\n  /**\n   * Handle when a new output is added\n   */\n  function handleAddOutput(event, handle) {\n    const output_area = handle.output_area;\n    const output = handle.output;\n\n    // limit handleAddOutput to display_data with EXEC_MIME_TYPE content only\n    if ((output.output_type != \"display_data\") || (!Object.prototype.hasOwnProperty.call(output.data, EXEC_MIME_TYPE))) {\n      return\n    }\n\n    const toinsert = output_area.element.find(\".\" + CLASS_NAME.split(' ')[0]);\n\n    if (output.metadata[EXEC_MIME_TYPE][\"id\"] !== undefined) {\n      toinsert[toinsert.length - 1].firstChild.textContent = output.data[JS_MIME_TYPE];\n      // store reference to embed id on output_area\n      output_area._bokeh_element_id = output.metadata[EXEC_MIME_TYPE][\"id\"];\n    }\n    if (output.metadata[EXEC_MIME_TYPE][\"server_id\"] !== undefined) {\n      const bk_div = document.createElement(\"div\");\n      bk_div.innerHTML = output.data[HTML_MIME_TYPE];\n      const script_attrs = bk_div.children[0].attributes;\n      for (let i = 0; i < script_attrs.length; i++) {\n        toinsert[toinsert.length - 1].firstChild.setAttribute(script_attrs[i].name, script_attrs[i].value);\n        toinsert[toinsert.length - 1].firstChild.textContent = bk_div.children[0].textContent\n      }\n      // store reference to server id on output_area\n      output_area._bokeh_server_id = output.metadata[EXEC_MIME_TYPE][\"server_id\"];\n    }\n  }\n\n  function register_renderer(events, OutputArea) {\n\n    function append_mime(data, metadata, element) {\n      // create a DOM node to render to\n      const toinsert = this.create_output_subarea(\n        metadata,\n        CLASS_NAME,\n        EXEC_MIME_TYPE\n      );\n      this.keyboard_manager.register_events(toinsert);\n      // Render to node\n      const props = {data: data, metadata: metadata[EXEC_MIME_TYPE]};\n      render(props, toinsert[toinsert.length - 1]);\n      element.append(toinsert);\n      return toinsert\n    }\n\n    /* Handle when an output is cleared or removed */\n    events.on('clear_output.CodeCell', handleClearOutput);\n    events.on('delete.Cell', handleClearOutput);\n\n    /* Handle when a new output is added */\n    events.on('output_added.OutputArea', handleAddOutput);\n\n    /**\n     * Register the mime type and append_mime function with output_area\n     */\n    OutputArea.prototype.register_mime_type(EXEC_MIME_TYPE, append_mime, {\n      /* Is output safe? */\n      safe: true,\n      /* Index of renderer in `output_area.display_order` */\n      index: 0\n    });\n  }\n\n  // register the mime type if in Jupyter Notebook environment and previously unregistered\n  if (root.Jupyter !== undefined) {\n    const events = require('base/js/events');\n    const OutputArea = require('notebook/js/outputarea').OutputArea;\n\n    if (OutputArea.prototype.mime_types().indexOf(EXEC_MIME_TYPE) == -1) {\n      register_renderer(events, OutputArea);\n    }\n  }\n  if (typeof (root._bokeh_timeout) === \"undefined\" || force === true) {\n    root._bokeh_timeout = Date.now() + 5000;\n    root._bokeh_failed_load = false;\n  }\n\n  const NB_LOAD_WARNING = {'data': {'text/html':\n     \"<div style='background-color: #fdd'>\\n\"+\n     \"<p>\\n\"+\n     \"BokehJS does not appear to have successfully loaded. If loading BokehJS from CDN, this \\n\"+\n     \"may be due to a slow or bad network connection. Possible fixes:\\n\"+\n     \"</p>\\n\"+\n     \"<ul>\\n\"+\n     \"<li>re-rerun `output_notebook()` to attempt to load from CDN again, or</li>\\n\"+\n     \"<li>use INLINE resources instead, as so:</li>\\n\"+\n     \"</ul>\\n\"+\n     \"<code>\\n\"+\n     \"from bokeh.resources import INLINE\\n\"+\n     \"output_notebook(resources=INLINE)\\n\"+\n     \"</code>\\n\"+\n     \"</div>\"}};\n\n  function display_loaded() {\n    const el = document.getElementById(\"1002\");\n    if (el != null) {\n      el.textContent = \"BokehJS is loading...\";\n    }\n    if (root.Bokeh !== undefined) {\n      if (el != null) {\n        el.textContent = \"BokehJS \" + root.Bokeh.version + \" successfully loaded.\";\n      }\n    } else if (Date.now() < root._bokeh_timeout) {\n      setTimeout(display_loaded, 100)\n    }\n  }\n\n  function run_callbacks() {\n    try {\n      root._bokeh_onload_callbacks.forEach(function(callback) {\n        if (callback != null)\n          callback();\n      });\n    } finally {\n      delete root._bokeh_onload_callbacks\n    }\n    console.debug(\"Bokeh: all callbacks have finished\");\n  }\n\n  function load_libs(css_urls, js_urls, callback) {\n    if (css_urls == null) css_urls = [];\n    if (js_urls == null) js_urls = [];\n\n    root._bokeh_onload_callbacks.push(callback);\n    if (root._bokeh_is_loading > 0) {\n      console.debug(\"Bokeh: BokehJS is being loaded, scheduling callback at\", now());\n      return null;\n    }\n    if (js_urls == null || js_urls.length === 0) {\n      run_callbacks();\n      return null;\n    }\n    console.debug(\"Bokeh: BokehJS not loaded, scheduling load and callback at\", now());\n    root._bokeh_is_loading = css_urls.length + js_urls.length;\n\n    function on_load() {\n      root._bokeh_is_loading--;\n      if (root._bokeh_is_loading === 0) {\n        console.debug(\"Bokeh: all BokehJS libraries/stylesheets loaded\");\n        run_callbacks()\n      }\n    }\n\n    function on_error(url) {\n      console.error(\"failed to load \" + url);\n    }\n\n    for (let i = 0; i < css_urls.length; i++) {\n      const url = css_urls[i];\n      const element = document.createElement(\"link\");\n      element.onload = on_load;\n      element.onerror = on_error.bind(null, url);\n      element.rel = \"stylesheet\";\n      element.type = \"text/css\";\n      element.href = url;\n      console.debug(\"Bokeh: injecting link tag for BokehJS stylesheet: \", url);\n      document.body.appendChild(element);\n    }\n\n    for (let i = 0; i < js_urls.length; i++) {\n      const url = js_urls[i];\n      const element = document.createElement('script');\n      element.onload = on_load;\n      element.onerror = on_error.bind(null, url);\n      element.async = false;\n      element.src = url;\n      console.debug(\"Bokeh: injecting script tag for BokehJS library: \", url);\n      document.head.appendChild(element);\n    }\n  };\n\n  function inject_raw_css(css) {\n    const element = document.createElement(\"style\");\n    element.appendChild(document.createTextNode(css));\n    document.body.appendChild(element);\n  }\n\n  const js_urls = [\"https://cdn.bokeh.org/bokeh/release/bokeh-2.4.3.min.js\", \"https://cdn.bokeh.org/bokeh/release/bokeh-gl-2.4.3.min.js\", \"https://cdn.bokeh.org/bokeh/release/bokeh-widgets-2.4.3.min.js\", \"https://cdn.bokeh.org/bokeh/release/bokeh-tables-2.4.3.min.js\", \"https://cdn.bokeh.org/bokeh/release/bokeh-mathjax-2.4.3.min.js\", \"https://unpkg.com/@holoviz/panel@0.14.4/dist/panel.min.js\"];\n  const css_urls = [];\n\n  const inline_js = [    function(Bokeh) {\n      Bokeh.set_log_level(\"info\");\n    },\nfunction(Bokeh) {\n    }\n  ];\n\n  function run_inline_js() {\n    if (root.Bokeh !== undefined || force === true) {\n          for (let i = 0; i < inline_js.length; i++) {\n      inline_js[i].call(root, root.Bokeh);\n    }\nif (force === true) {\n        display_loaded();\n      }} else if (Date.now() < root._bokeh_timeout) {\n      setTimeout(run_inline_js, 100);\n    } else if (!root._bokeh_failed_load) {\n      console.log(\"Bokeh: BokehJS failed to load within specified timeout.\");\n      root._bokeh_failed_load = true;\n    } else if (force !== true) {\n      const cell = $(document.getElementById(\"1002\")).parents('.cell').data().cell;\n      cell.output_area.append_execute_result(NB_LOAD_WARNING)\n    }\n  }\n\n  if (root._bokeh_is_loading === 0) {\n    console.debug(\"Bokeh: BokehJS loaded, going straight to plotting\");\n    run_inline_js();\n  } else {\n    load_libs(css_urls, js_urls, function() {\n      console.debug(\"Bokeh: BokehJS plotting callback run at\", now());\n      run_inline_js();\n    });\n  }\n}(window));",
      "application/vnd.bokehjs_load.v0+json": ""
     },
     "metadata": {},
     "output_type": "display_data"
    },
    {
     "data": {
      "text/html": [
       "\n",
       "  <div class=\"bk-root\" id=\"cdc79f00-36d1-4aa7-be71-3c481cae0de8\" data-root-id=\"1004\"></div>\n"
      ]
     },
     "metadata": {},
     "output_type": "display_data"
    },
    {
     "data": {
      "application/javascript": "(function(root) {\n  function embed_document(root) {\n  const docs_json = {\"df647190-be5b-499b-ab8e-266ba9531409\":{\"defs\":[{\"extends\":null,\"module\":null,\"name\":\"ReactiveHTML1\",\"overrides\":[],\"properties\":[]},{\"extends\":null,\"module\":null,\"name\":\"FlexBox1\",\"overrides\":[],\"properties\":[{\"default\":\"flex-start\",\"kind\":null,\"name\":\"align_content\"},{\"default\":\"flex-start\",\"kind\":null,\"name\":\"align_items\"},{\"default\":\"row\",\"kind\":null,\"name\":\"flex_direction\"},{\"default\":\"wrap\",\"kind\":null,\"name\":\"flex_wrap\"},{\"default\":\"flex-start\",\"kind\":null,\"name\":\"justify_content\"}]},{\"extends\":null,\"module\":null,\"name\":\"GridStack1\",\"overrides\":[],\"properties\":[{\"default\":\"warn\",\"kind\":null,\"name\":\"mode\"},{\"default\":null,\"kind\":null,\"name\":\"ncols\"},{\"default\":null,\"kind\":null,\"name\":\"nrows\"},{\"default\":true,\"kind\":null,\"name\":\"allow_resize\"},{\"default\":true,\"kind\":null,\"name\":\"allow_drag\"},{\"default\":[],\"kind\":null,\"name\":\"state\"}]},{\"extends\":null,\"module\":null,\"name\":\"click1\",\"overrides\":[],\"properties\":[{\"default\":\"\",\"kind\":null,\"name\":\"terminal_output\"},{\"default\":\"\",\"kind\":null,\"name\":\"debug_name\"},{\"default\":0,\"kind\":null,\"name\":\"clears\"}]},{\"extends\":null,\"module\":null,\"name\":\"NotificationAreaBase1\",\"overrides\":[],\"properties\":[{\"default\":\"bottom-right\",\"kind\":null,\"name\":\"position\"},{\"default\":0,\"kind\":null,\"name\":\"_clear\"}]},{\"extends\":null,\"module\":null,\"name\":\"NotificationArea1\",\"overrides\":[],\"properties\":[{\"default\":[],\"kind\":null,\"name\":\"notifications\"},{\"default\":\"bottom-right\",\"kind\":null,\"name\":\"position\"},{\"default\":0,\"kind\":null,\"name\":\"_clear\"},{\"default\":[{\"background\":\"#ffc107\",\"icon\":{\"className\":\"fas fa-exclamation-triangle\",\"color\":\"white\",\"tagName\":\"i\"},\"type\":\"warning\"},{\"background\":\"#007bff\",\"icon\":{\"className\":\"fas fa-info-circle\",\"color\":\"white\",\"tagName\":\"i\"},\"type\":\"info\"}],\"kind\":null,\"name\":\"types\"}]},{\"extends\":null,\"module\":null,\"name\":\"Notification\",\"overrides\":[],\"properties\":[{\"default\":null,\"kind\":null,\"name\":\"background\"},{\"default\":3000,\"kind\":null,\"name\":\"duration\"},{\"default\":null,\"kind\":null,\"name\":\"icon\"},{\"default\":\"\",\"kind\":null,\"name\":\"message\"},{\"default\":null,\"kind\":null,\"name\":\"notification_type\"},{\"default\":false,\"kind\":null,\"name\":\"_destroyed\"}]},{\"extends\":null,\"module\":null,\"name\":\"TemplateActions1\",\"overrides\":[],\"properties\":[{\"default\":0,\"kind\":null,\"name\":\"open_modal\"},{\"default\":0,\"kind\":null,\"name\":\"close_modal\"}]},{\"extends\":null,\"module\":null,\"name\":\"MaterialTemplateActions1\",\"overrides\":[],\"properties\":[{\"default\":0,\"kind\":null,\"name\":\"open_modal\"},{\"default\":0,\"kind\":null,\"name\":\"close_modal\"}]}],\"roots\":{\"references\":[{\"attributes\":{\"background_fill_color\":\"black\",\"below\":[{\"id\":\"1013\"}],\"center\":[{\"id\":\"1016\"},{\"id\":\"1020\"}],\"height\":800,\"left\":[{\"id\":\"1017\"}],\"renderers\":[{\"id\":\"1041\"}],\"title\":{\"id\":\"1043\"},\"toolbar\":{\"id\":\"1029\"},\"width\":800,\"x_range\":{\"id\":\"1005\"},\"x_scale\":{\"id\":\"1009\"},\"y_range\":{\"id\":\"1007\"},\"y_scale\":{\"id\":\"1011\"}},\"id\":\"1004\",\"subtype\":\"Figure\",\"type\":\"Plot\"},{\"attributes\":{},\"id\":\"1011\",\"type\":\"LinearScale\"},{\"attributes\":{\"overlay\":{\"id\":\"1027\"}},\"id\":\"1023\",\"type\":\"BoxZoomTool\"},{\"attributes\":{\"callback\":null,\"tooltips\":[[\"event_name\",\"@{event_name}\"],[\"start\",\"@{start}\"],[\"day\",\"@{day}\"],[\"subject\",\"@{subject}\"],[\"code\",\"@{code}\"]]},\"id\":\"1028\",\"type\":\"HoverTool\"},{\"attributes\":{},\"id\":\"1026\",\"type\":\"HelpTool\"},{\"attributes\":{},\"id\":\"1005\",\"type\":\"DataRange1d\"},{\"attributes\":{\"coordinates\":null,\"formatter\":{\"id\":\"1049\"},\"group\":null,\"major_label_policy\":{\"id\":\"1050\"},\"ticker\":{\"id\":\"1014\"},\"visible\":false},\"id\":\"1013\",\"type\":\"LinearAxis\"},{\"attributes\":{},\"id\":\"1051\",\"type\":\"UnionRenderers\"},{\"attributes\":{\"coordinates\":null,\"data_source\":{\"id\":\"1003\"},\"glyph\":{\"id\":\"1038\"},\"group\":null,\"hover_glyph\":null,\"muted_glyph\":{\"id\":\"1040\"},\"nonselection_glyph\":{\"id\":\"1039\"},\"view\":{\"id\":\"1042\"}},\"id\":\"1041\",\"type\":\"GlyphRenderer\"},{\"attributes\":{},\"id\":\"1046\",\"type\":\"BasicTickFormatter\"},{\"attributes\":{},\"id\":\"1050\",\"type\":\"AllLabels\"},{\"attributes\":{\"axis\":{\"id\":\"1017\"},\"coordinates\":null,\"dimension\":1,\"group\":null,\"ticker\":null,\"visible\":false},\"id\":\"1020\",\"type\":\"Grid\"},{\"attributes\":{},\"id\":\"1018\",\"type\":\"BasicTicker\"},{\"attributes\":{},\"id\":\"1025\",\"type\":\"ResetTool\"},{\"attributes\":{\"fill_alpha\":{\"field\":\"alpha\"},\"fill_color\":{\"field\":\"color\"},\"hatch_alpha\":{\"field\":\"alpha\"},\"hatch_color\":{\"field\":\"color\"},\"line_alpha\":{\"field\":\"alpha\"},\"line_color\":{\"field\":\"color\"},\"x\":{\"field\":\"x\"},\"y\":{\"field\":\"y\"}},\"id\":\"1038\",\"type\":\"Circle\"},{\"attributes\":{},\"id\":\"1021\",\"type\":\"PanTool\"},{\"attributes\":{\"coordinates\":null,\"group\":null},\"id\":\"1043\",\"type\":\"Title\"},{\"attributes\":{},\"id\":\"1047\",\"type\":\"AllLabels\"},{\"attributes\":{\"bottom_units\":\"screen\",\"coordinates\":null,\"fill_alpha\":0.5,\"fill_color\":\"lightgrey\",\"group\":null,\"left_units\":\"screen\",\"level\":\"overlay\",\"line_alpha\":1.0,\"line_color\":\"black\",\"line_dash\":[4,4],\"line_width\":2,\"right_units\":\"screen\",\"syncable\":false,\"top_units\":\"screen\"},\"id\":\"1027\",\"type\":\"BoxAnnotation\"},{\"attributes\":{\"fill_alpha\":{\"value\":0.2},\"fill_color\":{\"field\":\"color\"},\"hatch_alpha\":{\"value\":0.2},\"hatch_color\":{\"field\":\"color\"},\"line_alpha\":{\"value\":0.2},\"line_color\":{\"field\":\"color\"},\"x\":{\"field\":\"x\"},\"y\":{\"field\":\"y\"}},\"id\":\"1040\",\"type\":\"Circle\"},{\"attributes\":{\"data\":{\"alpha\":[1,1,1,1,1,1,1,1,1,1,1,1,1,1,1,1,1,1,1,1,1,1,1,1,1,1,1,1,1,1,1,1,1,1,1,1,1,1,1,1,1,1,1,1,1,1,1,1,1,1,1,1,1,1,1,1,1,1,1,1,1,1,1,1,1,1,1,1,1,1,1,1,1,1,1,1,1,1,1,1,1,1,1,1,1,1,1,1,1,1,1,1,1,1,1,1,1,1,1,1,1,1,1,1,1,1,1,1,1,1,1,1,1,1,1,1,1,1,1,1,1,1,1,1,1,1,1,1,1,1,1,1,1,1,1,1,1,1,1,1,1,1,1,1,1,1,1,1,1,1,1,1,1,1,1,1,1,1,1,1,1,1,1,1,1,1,1,1,1,1,1,1,1,1,1,1,1,1,1,1,1,1,1,1,1,1,1,1,1,1,1,1,1,1,1,1,1,1,1,1,1,1,1,1,1,1,1,1,1,1,1,1,1,1,1,1,1,1,1,1,1,1,1,1,1,1,1,1,1,1,1,1,1,1,1,1,1,1,1,1,1,1,1,1,1,1,1,1,1,1,1,1,1,1,1,1,1,1,1,1,1,1,1,1,1,1,1,1,1,1,1,1,1,1,1,1,1,1,1,1,1,1,1,1,1,1,1,1,1,1,1,1,1,1,1,1,1,1,1,1,1,1,1,1,1,1,1,1,1,1,1,1,1,1,1,1,1,1,1,1,1,1,1,1,1,1,1,1,1,1,1,1,1,1,1,1,1,1,1,1,1,1,1,1,1,1,1,1,1,1,1,1,1,1,1,1,1,1,1,1,1,1,1,1,1,1,1,1,1,1,1,1,1,1,1,1,1,1,1,1,1,1,1,1,1,1,1,1,1,1,1,1,1,1,1,1,1,1,1,1,1,1,1,1,1,1,1,1,1,1,1,1,1,1,1,1,1,1,1,1,1,1,1,1,1,1,1,1,1,1,1,1,1,1,1,1,1,1,1,1,1,1,1,1,1,1,1,1,1,1,1,1,1,1,1,1,1,1,1,1,1,1,1,1,1,1,1,1,1,1,1,1,1,1,1,1,1,1,1,1,1,1,1,1,1,1,1,1,1,1,1,1,1,1,1,1,1,1,1,1,1,1,1,1,1,1,1,1,1,1,1,1,1,1,1,1,1,1,1,1,1,1,1,1,1,1,1,1,1,1,1,1,1,1,1,1,1,1,1,1,1,1,1,1,1,1,1,1,1,1,1,1,1,1,1,1,1,1,1,1,1,1,1,1,1,1,1,1,1,1,1,1,1,1,1,1,1,1,1,1,1,1,1,1,1,1,1,1,1,1,1,1,1,1,1,1,1,1,1,1,1,1,1,1,1,1,1,1,1,1,1,1,1,1,1,1,1,1,1,1,1,1,1,1,1,1,1,1,1,1,1,1,1,1,1,1,1,1,1,1,1,1,1,1,1,1,1,1,1,1,1,1,1,1,1,1],\"code\":{\"__ndarray__\":\"AAAAAAAAAAAAAAAAAAAAAAAAAAAAAAAAAAAAAAAAAAAAAAAAAAAAAAAAAAAAAAAAAAAAAAAAAAAAAAAAAAAAAAAAAAAAAAAAAAAAAAAAAAAAAAAAAAAAAAAAAAAAAAAAAAAAAAAAAAAAAAAAAAAAAAAAAAAAAAAAAAAAAAAAAAAAAAAAAAAAAAAAAAAAAAAAAAAAAAAAAAAAAAAAAAAAAAAAAAAAAAAAAAAAAAAAAAAAAAAAAAAAAAAAAAAAAAAAAAAAAAAAAAAAAAAAAAAAAAAAAAAAAAAAAAAAAAAAAAAAAAAAAAAAAAAAAAAAAAAAAAAAAAAAAAAAAAAAAAAAAAAAAAAAAAAAAAAAAAAAAAAAAAAAAAAAAAAAAAAAAAAAAAAAAAAAAAAAAAAAAAAAAAAAAAAAAAAAAAAAAAAAAAAAAAAAAAAAAAAAAAAAAAAAAAAAAAAAAAAAAAAAAAAAAAAAAAAAAAAAAAAAAAAAAAAAAAAAAAAAAAAAAAAAAAAAAAAAAAAAAAAAAAAAAAAAAAAAAAAAAAAAAAAAAAAAAAAAAAAAAAAAAAAAAAAAAAAAAAAAAAAAAAAAAAAAAAAAAAAAAAAAAAAAAAAAAAAAAAAAAAAAAAAAAAAAAAAAAAAAAAAAAAAAAAAAAAAAAAAAAAAAAAAAAAAAAAAAAAAAAAAAAAAAAAAAAAAAAAAAAAAAAAAAAAAAAAAAAAAAAAAAAAAAAAAAAAAAAAAAAAAAAAAAAAAAAAAAAAAAAAAAAAAAAAAAAAAAAAAAAAAAAAAAAAAAAAAAAAAAAAAAAAAAAAAAAAAAAAAAAAAAAAAAAAAAAAAAAAAAAAAAAAAAAAAAAAAAAAAAAAAAAAAAAAAAAAA=\",\"dtype\":\"int8\",\"order\":\"little\",\"shape\":[656]},\"color\":[\"#8000ff\",\"#8000ff\",\"#8000ff\",\"#8000ff\",\"#8000ff\",\"#8000ff\",\"#8000ff\",\"#8000ff\",\"#8000ff\",\"#8000ff\",\"#8000ff\",\"#8000ff\",\"#8000ff\",\"#8000ff\",\"#8000ff\",\"#8000ff\",\"#8000ff\",\"#8000ff\",\"#8000ff\",\"#8000ff\",\"#8000ff\",\"#8000ff\",\"#8000ff\",\"#8000ff\",\"#8000ff\",\"#8000ff\",\"#8000ff\",\"#8000ff\",\"#8000ff\",\"#8000ff\",\"#8000ff\",\"#8000ff\",\"#8000ff\",\"#8000ff\",\"#8000ff\",\"#8000ff\",\"#8000ff\",\"#8000ff\",\"#8000ff\",\"#8000ff\",\"#8000ff\",\"#8000ff\",\"#8000ff\",\"#8000ff\",\"#8000ff\",\"#8000ff\",\"#8000ff\",\"#8000ff\",\"#8000ff\",\"#8000ff\",\"#8000ff\",\"#8000ff\",\"#8000ff\",\"#8000ff\",\"#8000ff\",\"#8000ff\",\"#8000ff\",\"#8000ff\",\"#8000ff\",\"#8000ff\",\"#8000ff\",\"#8000ff\",\"#8000ff\",\"#8000ff\",\"#8000ff\",\"#8000ff\",\"#8000ff\",\"#8000ff\",\"#8000ff\",\"#8000ff\",\"#8000ff\",\"#8000ff\",\"#8000ff\",\"#8000ff\",\"#8000ff\",\"#8000ff\",\"#8000ff\",\"#8000ff\",\"#8000ff\",\"#8000ff\",\"#8000ff\",\"#8000ff\",\"#8000ff\",\"#8000ff\",\"#8000ff\",\"#8000ff\",\"#8000ff\",\"#8000ff\",\"#8000ff\",\"#8000ff\",\"#8000ff\",\"#8000ff\",\"#8000ff\",\"#8000ff\",\"#8000ff\",\"#8000ff\",\"#8000ff\",\"#8000ff\",\"#8000ff\",\"#8000ff\",\"#8000ff\",\"#8000ff\",\"#8000ff\",\"#8000ff\",\"#8000ff\",\"#8000ff\",\"#8000ff\",\"#8000ff\",\"#8000ff\",\"#8000ff\",\"#8000ff\",\"#8000ff\",\"#8000ff\",\"#8000ff\",\"#8000ff\",\"#8000ff\",\"#8000ff\",\"#8000ff\",\"#8000ff\",\"#8000ff\",\"#8000ff\",\"#8000ff\",\"#8000ff\",\"#8000ff\",\"#8000ff\",\"#8000ff\",\"#8000ff\",\"#8000ff\",\"#8000ff\",\"#8000ff\",\"#8000ff\",\"#8000ff\",\"#8000ff\",\"#8000ff\",\"#8000ff\",\"#8000ff\",\"#8000ff\",\"#8000ff\",\"#8000ff\",\"#8000ff\",\"#8000ff\",\"#8000ff\",\"#8000ff\",\"#8000ff\",\"#8000ff\",\"#8000ff\",\"#8000ff\",\"#8000ff\",\"#8000ff\",\"#8000ff\",\"#8000ff\",\"#8000ff\",\"#8000ff\",\"#8000ff\",\"#8000ff\",\"#8000ff\",\"#8000ff\",\"#8000ff\",\"#8000ff\",\"#8000ff\",\"#8000ff\",\"#8000ff\",\"#8000ff\",\"#8000ff\",\"#8000ff\",\"#8000ff\",\"#8000ff\",\"#8000ff\",\"#8000ff\",\"#8000ff\",\"#8000ff\",\"#8000ff\",\"#8000ff\",\"#8000ff\",\"#8000ff\",\"#8000ff\",\"#8000ff\",\"#8000ff\",\"#8000ff\",\"#8000ff\",\"#8000ff\",\"#8000ff\",\"#8000ff\",\"#8000ff\",\"#8000ff\",\"#8000ff\",\"#8000ff\",\"#8000ff\",\"#8000ff\",\"#8000ff\",\"#8000ff\",\"#8000ff\",\"#8000ff\",\"#8000ff\",\"#8000ff\",\"#8000ff\",\"#8000ff\",\"#8000ff\",\"#8000ff\",\"#8000ff\",\"#8000ff\",\"#8000ff\",\"#8000ff\",\"#8000ff\",\"#8000ff\",\"#8000ff\",\"#8000ff\",\"#8000ff\",\"#8000ff\",\"#8000ff\",\"#8000ff\",\"#8000ff\",\"#8000ff\",\"#8000ff\",\"#8000ff\",\"#8000ff\",\"#8000ff\",\"#8000ff\",\"#8000ff\",\"#8000ff\",\"#8000ff\",\"#8000ff\",\"#8000ff\",\"#8000ff\",\"#8000ff\",\"#8000ff\",\"#8000ff\",\"#8000ff\",\"#8000ff\",\"#8000ff\",\"#8000ff\",\"#8000ff\",\"#8000ff\",\"#8000ff\",\"#8000ff\",\"#8000ff\",\"#8000ff\",\"#8000ff\",\"#8000ff\",\"#8000ff\",\"#8000ff\",\"#8000ff\",\"#8000ff\",\"#8000ff\",\"#8000ff\",\"#8000ff\",\"#8000ff\",\"#8000ff\",\"#8000ff\",\"#8000ff\",\"#8000ff\",\"#8000ff\",\"#8000ff\",\"#8000ff\",\"#8000ff\",\"#8000ff\",\"#8000ff\",\"#8000ff\",\"#8000ff\",\"#8000ff\",\"#8000ff\",\"#8000ff\",\"#8000ff\",\"#8000ff\",\"#8000ff\",\"#8000ff\",\"#8000ff\",\"#8000ff\",\"#8000ff\",\"#8000ff\",\"#8000ff\",\"#8000ff\",\"#8000ff\",\"#8000ff\",\"#8000ff\",\"#8000ff\",\"#8000ff\",\"#8000ff\",\"#8000ff\",\"#8000ff\",\"#8000ff\",\"#8000ff\",\"#8000ff\",\"#8000ff\",\"#8000ff\",\"#8000ff\",\"#8000ff\",\"#8000ff\",\"#8000ff\",\"#8000ff\",\"#8000ff\",\"#8000ff\",\"#8000ff\",\"#8000ff\",\"#8000ff\",\"#8000ff\",\"#8000ff\",\"#8000ff\",\"#8000ff\",\"#8000ff\",\"#8000ff\",\"#8000ff\",\"#8000ff\",\"#8000ff\",\"#8000ff\",\"#8000ff\",\"#8000ff\",\"#8000ff\",\"#8000ff\",\"#8000ff\",\"#8000ff\",\"#8000ff\",\"#8000ff\",\"#8000ff\",\"#8000ff\",\"#8000ff\",\"#8000ff\",\"#8000ff\",\"#8000ff\",\"#8000ff\",\"#8000ff\",\"#8000ff\",\"#8000ff\",\"#8000ff\",\"#8000ff\",\"#8000ff\",\"#8000ff\",\"#8000ff\",\"#8000ff\",\"#8000ff\",\"#8000ff\",\"#8000ff\",\"#8000ff\",\"#8000ff\",\"#8000ff\",\"#8000ff\",\"#8000ff\",\"#8000ff\",\"#8000ff\",\"#8000ff\",\"#8000ff\",\"#8000ff\",\"#8000ff\",\"#8000ff\",\"#8000ff\",\"#8000ff\",\"#8000ff\",\"#8000ff\",\"#8000ff\",\"#8000ff\",\"#8000ff\",\"#8000ff\",\"#8000ff\",\"#8000ff\",\"#8000ff\",\"#8000ff\",\"#8000ff\",\"#8000ff\",\"#8000ff\",\"#8000ff\",\"#8000ff\",\"#8000ff\",\"#8000ff\",\"#8000ff\",\"#8000ff\",\"#8000ff\",\"#8000ff\",\"#8000ff\",\"#8000ff\",\"#8000ff\",\"#8000ff\",\"#8000ff\",\"#8000ff\",\"#8000ff\",\"#8000ff\",\"#8000ff\",\"#8000ff\",\"#8000ff\",\"#8000ff\",\"#8000ff\",\"#8000ff\",\"#8000ff\",\"#8000ff\",\"#8000ff\",\"#8000ff\",\"#8000ff\",\"#8000ff\",\"#8000ff\",\"#8000ff\",\"#8000ff\",\"#8000ff\",\"#8000ff\",\"#8000ff\",\"#8000ff\",\"#8000ff\",\"#8000ff\",\"#8000ff\",\"#8000ff\",\"#8000ff\",\"#8000ff\",\"#8000ff\",\"#8000ff\",\"#8000ff\",\"#8000ff\",\"#8000ff\",\"#8000ff\",\"#8000ff\",\"#8000ff\",\"#8000ff\",\"#8000ff\",\"#8000ff\",\"#8000ff\",\"#8000ff\",\"#8000ff\",\"#8000ff\",\"#8000ff\",\"#8000ff\",\"#8000ff\",\"#8000ff\",\"#8000ff\",\"#8000ff\",\"#8000ff\",\"#8000ff\",\"#8000ff\",\"#8000ff\",\"#8000ff\",\"#8000ff\",\"#8000ff\",\"#8000ff\",\"#8000ff\",\"#8000ff\",\"#8000ff\",\"#8000ff\",\"#8000ff\",\"#8000ff\",\"#8000ff\",\"#8000ff\",\"#8000ff\",\"#8000ff\",\"#8000ff\",\"#8000ff\",\"#8000ff\",\"#8000ff\",\"#8000ff\",\"#8000ff\",\"#8000ff\",\"#8000ff\",\"#8000ff\",\"#8000ff\",\"#8000ff\",\"#8000ff\",\"#8000ff\",\"#8000ff\",\"#8000ff\",\"#8000ff\",\"#8000ff\",\"#8000ff\",\"#8000ff\",\"#8000ff\",\"#8000ff\",\"#8000ff\",\"#8000ff\",\"#8000ff\",\"#8000ff\",\"#8000ff\",\"#8000ff\",\"#8000ff\",\"#8000ff\",\"#8000ff\",\"#8000ff\",\"#8000ff\",\"#8000ff\",\"#8000ff\",\"#8000ff\",\"#8000ff\",\"#8000ff\",\"#8000ff\",\"#8000ff\",\"#8000ff\",\"#8000ff\",\"#8000ff\",\"#8000ff\",\"#8000ff\",\"#8000ff\",\"#8000ff\",\"#8000ff\",\"#8000ff\",\"#8000ff\",\"#8000ff\",\"#8000ff\",\"#8000ff\",\"#8000ff\",\"#8000ff\",\"#8000ff\",\"#8000ff\",\"#8000ff\",\"#8000ff\",\"#8000ff\",\"#8000ff\",\"#8000ff\",\"#8000ff\",\"#8000ff\",\"#8000ff\",\"#8000ff\",\"#8000ff\",\"#8000ff\",\"#8000ff\",\"#8000ff\",\"#8000ff\",\"#8000ff\",\"#8000ff\",\"#8000ff\",\"#8000ff\",\"#8000ff\",\"#8000ff\",\"#8000ff\",\"#8000ff\",\"#8000ff\",\"#8000ff\",\"#8000ff\",\"#8000ff\",\"#8000ff\",\"#8000ff\",\"#8000ff\",\"#8000ff\",\"#8000ff\",\"#8000ff\",\"#8000ff\",\"#8000ff\",\"#8000ff\",\"#8000ff\",\"#8000ff\",\"#8000ff\",\"#8000ff\",\"#8000ff\",\"#8000ff\",\"#8000ff\",\"#8000ff\",\"#8000ff\",\"#8000ff\",\"#8000ff\",\"#8000ff\",\"#8000ff\",\"#8000ff\",\"#8000ff\",\"#8000ff\",\"#8000ff\",\"#8000ff\",\"#8000ff\",\"#8000ff\",\"#8000ff\",\"#8000ff\",\"#8000ff\",\"#8000ff\",\"#8000ff\",\"#8000ff\",\"#8000ff\",\"#8000ff\",\"#8000ff\",\"#8000ff\",\"#8000ff\",\"#8000ff\",\"#8000ff\",\"#8000ff\",\"#8000ff\",\"#8000ff\",\"#8000ff\",\"#8000ff\",\"#8000ff\",\"#8000ff\",\"#8000ff\",\"#8000ff\",\"#8000ff\",\"#8000ff\",\"#8000ff\",\"#8000ff\",\"#8000ff\",\"#8000ff\",\"#8000ff\",\"#8000ff\",\"#8000ff\",\"#8000ff\",\"#8000ff\",\"#8000ff\",\"#8000ff\",\"#8000ff\",\"#8000ff\",\"#8000ff\",\"#8000ff\",\"#8000ff\",\"#8000ff\",\"#8000ff\",\"#8000ff\",\"#8000ff\",\"#8000ff\",\"#8000ff\",\"#8000ff\",\"#8000ff\",\"#8000ff\",\"#8000ff\",\"#8000ff\",\"#8000ff\",\"#8000ff\",\"#8000ff\",\"#8000ff\",\"#8000ff\",\"#8000ff\",\"#8000ff\",\"#8000ff\",\"#8000ff\",\"#8000ff\",\"#8000ff\",\"#8000ff\",\"#8000ff\",\"#8000ff\",\"#8000ff\",\"#8000ff\",\"#8000ff\",\"#8000ff\",\"#8000ff\",\"#8000ff\",\"#8000ff\",\"#8000ff\",\"#8000ff\",\"#8000ff\",\"#8000ff\",\"#8000ff\",\"#8000ff\",\"#8000ff\",\"#8000ff\",\"#8000ff\",\"#8000ff\",\"#8000ff\",\"#8000ff\",\"#8000ff\",\"#8000ff\",\"#8000ff\",\"#8000ff\",\"#8000ff\",\"#8000ff\",\"#8000ff\",\"#8000ff\",\"#8000ff\",\"#8000ff\",\"#8000ff\",\"#8000ff\",\"#8000ff\",\"#8000ff\",\"#8000ff\",\"#8000ff\",\"#8000ff\",\"#8000ff\",\"#8000ff\",\"#8000ff\",\"#8000ff\",\"#8000ff\"],\"day\":[\"KMR\",\"KMR\",\"KMR\",\"KMR\",\"KMR\",\"KMR\",\"KMR\",\"KMR\",\"KMR\",\"KMR\",\"KMR\",\"KMR\",\"KMR\",\"KMR\",\"KMR\",\"KMR\",\"KMR\",\"KMR\",\"KMR\",\"KMR\",\"KMR\",\"KMR\",\"KMR\",\"KMR\",\"KMR\",\"KMR\",\"KMR\",\"KMR\",\"KMR\",\"KMR\",\"KMR\",\"KMR\",\"KMR\",\"KMR\",\"KMR\",\"KMR\",\"KMR\",\"KMR\",\"KMR\",\"KMR\",\"KMR\",\"KMR\",\"KMR\",\"KMR\",\"KMR\",\"KMR\",\"KMR\",\"KMR\",\"KMR\",\"KMR\",\"KMR\",\"KMR\",\"KMR\",\"KMR\",\"KMR\",\"KMR\",\"KMR\",\"KMR\",\"KMR\",\"KMR\",\"KMR\",\"KMR\",\"KMR\",\"KMR\",\"KMR\",\"KMR\",\"KMR\",\"KMR\",\"KMR\",\"KMR\",\"KMR\",\"KMR\",\"KMR\",\"KMR\",\"KMR\",\"KMR\",\"KMR\",\"KMR\",\"KMR\",\"KMR\",\"KMR\",\"KMR\",\"KMR\",\"KMR\",\"KMR\",\"KMR\",\"KMR\",\"KMR\",\"KMR\",\"KMR\",\"KMR\",\"KMR\",\"KMR\",\"KMR\",\"KMR\",\"KMR\",\"KMR\",\"KMR\",\"KMR\",\"KMR\",\"KMR\",\"KMR\",\"KMR\",\"KMR\",\"KMR\",\"KMR\",\"KMR\",\"KMR\",\"KMR\",\"KMR\",\"KMR\",\"KMR\",\"KMR\",\"KMR\",\"KMR\",\"KMR\",\"KMR\",\"KMR\",\"KMR\",\"KMR\",\"KMR\",\"KMR\",\"KMR\",\"KMR\",\"KMR\",\"KMR\",\"KMR\",\"KMR\",\"KMR\",\"KMR\",\"KMR\",\"KMR\",\"KMR\",\"KMR\",\"KMR\",\"KMR\",\"KMR\",\"KMR\",\"KMR\",\"KMR\",\"KMR\",\"KMR\",\"KMR\",\"KMR\",\"KMR\",\"KMR\",\"KMR\",\"KMR\",\"KMR\",\"KMR\",\"KMR\",\"KMR\",\"KMR\",\"KMR\",\"KMR\",\"KMR\",\"KMR\",\"KMR\",\"KMR\",\"KMR\",\"KMR\",\"KMR\",\"KMR\",\"KMR\",\"KMR\",\"KMR\",\"KMR\",\"KMR\",\"KMR\",\"KMR\",\"KMR\",\"KMR\",\"KMR\",\"KMR\",\"KMR\",\"KMR\",\"KMR\",\"KMR\",\"KMR\",\"KMR\",\"KMR\",\"KMR\",\"KMR\",\"KMR\",\"KMR\",\"KMR\",\"KMR\",\"KMR\",\"KMR\",\"KMR\",\"KMR\",\"KMR\",\"KMR\",\"KMR\",\"KMR\",\"KMR\",\"KMR\",\"KMR\",\"KMR\",\"KMR\",\"KMR\",\"KMR\",\"KMR\",\"KMR\",\"KMR\",\"KMR\",\"KMR\",\"KMR\",\"KMR\",\"KMR\",\"KMR\",\"KMR\",\"KMR\",\"KMR\",\"KMR\",\"KMR\",\"KMR\",\"KMR\",\"KMR\",\"KMR\",\"KMR\",\"KMR\",\"KMR\",\"KMR\",\"KMR\",\"KMR\",\"KMR\",\"KMR\",\"KMR\",\"KMR\",\"KMR\",\"KMR\",\"KMR\",\"KMR\",\"KMR\",\"KMR\",\"KMR\",\"KMR\",\"KMR\",\"KMR\",\"KMR\",\"KMR\",\"KMR\",\"KMR\",\"KMR\",\"KMR\",\"KMR\",\"KMR\",\"KMR\",\"KMR\",\"KMR\",\"KMR\",\"KMR\",\"KMR\",\"KMR\",\"KMR\",\"KMR\",\"KMR\",\"KMR\",\"KMR\",\"KMR\",\"KMR\",\"KMR\",\"KMR\",\"KMR\",\"KMR\",\"KMR\",\"KMR\",\"KMR\",\"KMR\",\"KMR\",\"KMR\",\"KMR\",\"KMR\",\"KMR\",\"KMR\",\"KMR\",\"KMR\",\"KMR\",\"KMR\",\"KMR\",\"KMR\",\"KMR\",\"KMR\",\"KMR\",\"KMR\",\"KMR\",\"KMR\",\"KMR\",\"KMR\",\"KMR\",\"KMR\",\"KMR\",\"KMR\",\"KMR\",\"KMR\",\"KMR\",\"KMR\",\"KMR\",\"KMR\",\"KMR\",\"KMR\",\"KMR\",\"KMR\",\"KMR\",\"KMR\",\"KMR\",\"KMR\",\"KMR\",\"KMR\",\"KMR\",\"KMR\",\"KMR\",\"KMR\",\"KMR\",\"KMR\",\"KMR\",\"KMR\",\"KMR\",\"KMR\",\"KMR\",\"KMR\",\"KMR\",\"KMR\",\"KMR\",\"KMR\",\"KMR\",\"KMR\",\"KMR\",\"KMR\",\"KMR\",\"KMR\",\"KMR\",\"KMR\",\"KMR\",\"KMR\",\"KMR\",\"KMR\",\"KMR\",\"KMR\",\"KMR\",\"KMR\",\"KMR\",\"KMR\",\"KMR\",\"KMR\",\"KMR\",\"KMR\",\"KMR\",\"KMR\",\"KMR\",\"KMR\",\"KMR\",\"KMR\",\"KMR\",\"KMR\",\"KMR\",\"KMR\",\"KMR\",\"KMR\",\"KMR\",\"KMR\",\"KMR\",\"KMR\",\"KMR\",\"KMR\",\"KMR\",\"KMR\",\"KMR\",\"KMR\",\"KMR\",\"KMR\",\"KMR\",\"KMR\",\"KMR\",\"KMR\",\"KMR\",\"KMR\",\"KMR\",\"KMR\",\"KMR\",\"KMR\",\"KMR\",\"KMR\",\"KMR\",\"KMR\",\"KMR\",\"KMR\",\"KMR\",\"KMR\",\"KMR\",\"KMR\",\"KMR\",\"KMR\",\"KMR\",\"KMR\",\"KMR\",\"KMR\",\"KMR\",\"KMR\",\"KMR\",\"KMR\",\"KMR\",\"KMR\",\"KMR\",\"KMR\",\"KMR\",\"KMR\",\"KMR\",\"KMR\",\"KMR\",\"KMR\",\"KMR\",\"KMR\",\"KMR\",\"KMR\",\"KMR\",\"KMR\",\"KMR\",\"KMR\",\"KMR\",\"KMR\",\"KMR\",\"KMR\",\"KMR\",\"KMR\",\"KMR\",\"KMR\",\"KMR\",\"KMR\",\"KMR\",\"KMR\",\"KMR\",\"KMR\",\"KMR\",\"KMR\",\"KMR\",\"KMR\",\"KMR\",\"KMR\",\"KMR\",\"KMR\",\"KMR\",\"KMR\",\"KMR\",\"KMR\",\"KMR\",\"KMR\",\"KMR\",\"KMR\",\"KMR\",\"KMR\",\"KMR\",\"KMR\",\"KMR\",\"KMR\",\"KMR\",\"KMR\",\"KMR\",\"KMR\",\"KMR\",\"KMR\",\"KMR\",\"KMR\",\"KMR\",\"KMR\",\"KMR\",\"KMR\",\"KMR\",\"KMR\",\"KMR\",\"KMR\",\"KMR\",\"KMR\",\"KMR\",\"KMR\",\"KMR\",\"KMR\",\"KMR\",\"KMR\",\"KMR\",\"KMR\",\"KMR\",\"KMR\",\"KMR\",\"KMR\",\"KMR\",\"KMR\",\"KMR\",\"KMR\",\"KMR\",\"KMR\",\"KMR\",\"KMR\",\"KMR\",\"KMR\",\"KMR\",\"KMR\",\"KMR\",\"KMR\",\"KMR\",\"KMR\",\"KMR\",\"KMR\",\"KMR\",\"KMR\",\"KMR\",\"KMR\",\"KMR\",\"KMR\",\"KMR\",\"KMR\",\"KMR\",\"KMR\",\"KMR\",\"KMR\",\"KMR\",\"KMR\",\"KMR\",\"KMR\",\"KMR\",\"KMR\",\"KMR\",\"KMR\",\"KMR\",\"KMR\",\"KMR\",\"KMR\",\"KMR\",\"KMR\",\"KMR\",\"KMR\",\"KMR\",\"KMR\",\"KMR\",\"KMR\",\"KMR\",\"KMR\",\"KMR\",\"KMR\",\"KMR\",\"KMR\",\"KMR\",\"KMR\",\"KMR\",\"KMR\",\"KMR\",\"KMR\",\"KMR\",\"KMR\",\"KMR\",\"KMR\",\"KMR\",\"KMR\",\"KMR\",\"KMR\",\"KMR\",\"KMR\",\"KMR\",\"KMR\",\"KMR\",\"KMR\",\"KMR\",\"KMR\",\"KMR\",\"KMR\",\"KMR\",\"KMR\",\"KMR\",\"KMR\",\"KMR\",\"KMR\",\"KMR\",\"KMR\",\"KMR\",\"KMR\",\"KMR\",\"KMR\",\"KMR\",\"KMR\",\"KMR\",\"KMR\",\"KMR\",\"KMR\",\"KMR\",\"KMR\",\"KMR\",\"KMR\",\"KMR\",\"KMR\",\"KMR\",\"KMR\",\"KMR\",\"KMR\",\"KMR\",\"KMR\",\"KMR\",\"KMR\",\"KMR\",\"KMR\",\"KMR\",\"KMR\",\"KMR\",\"KMR\",\"KMR\",\"KMR\",\"KMR\",\"KMR\",\"KMR\",\"KMR\",\"KMR\",\"KMR\",\"KMR\",\"KMR\",\"KMR\",\"KMR\",\"KMR\",\"KMR\",\"KMR\",\"KMR\",\"KMR\",\"KMR\",\"KMR\",\"KMR\",\"KMR\",\"KMR\",\"KMR\",\"KMR\",\"KMR\",\"KMR\",\"KMR\",\"KMR\",\"KMR\",\"KMR\",\"KMR\",\"KMR\",\"KMR\",\"KMR\",\"KMR\",\"KMR\",\"KMR\",\"KMR\",\"KMR\",\"KMR\",\"KMR\",\"KMR\",\"KMR\",\"KMR\",\"KMR\",\"KMR\",\"KMR\",\"KMR\",\"KMR\",\"KMR\",\"KMR\",\"KMR\"],\"event_name\":[\"background\",\"background\",\"background\",\"background\",\"background\",\"background\",\"background\",\"background\",\"background\",\"background\",\"background\",\"background\",\"background\",\"background\",\"background\",\"background\",\"background\",\"background\",\"background\",\"background\",\"background\",\"background\",\"background\",\"background\",\"background\",\"background\",\"background\",\"background\",\"background\",\"background\",\"background\",\"background\",\"background\",\"background\",\"background\",\"background\",\"background\",\"background\",\"background\",\"background\",\"background\",\"background\",\"background\",\"background\",\"background\",\"background\",\"background\",\"background\",\"background\",\"background\",\"background\",\"background\",\"background\",\"background\",\"background\",\"background\",\"background\",\"background\",\"background\",\"background\",\"background\",\"background\",\"background\",\"background\",\"background\",\"background\",\"background\",\"background\",\"background\",\"background\",\"background\",\"background\",\"background\",\"background\",\"background\",\"background\",\"background\",\"background\",\"background\",\"background\",\"background\",\"background\",\"background\",\"background\",\"background\",\"background\",\"background\",\"background\",\"background\",\"background\",\"background\",\"background\",\"background\",\"background\",\"background\",\"background\",\"background\",\"background\",\"background\",\"background\",\"background\",\"background\",\"background\",\"background\",\"background\",\"background\",\"background\",\"background\",\"background\",\"background\",\"background\",\"background\",\"background\",\"background\",\"background\",\"background\",\"background\",\"background\",\"background\",\"background\",\"background\",\"background\",\"background\",\"background\",\"background\",\"background\",\"background\",\"background\",\"background\",\"background\",\"background\",\"background\",\"background\",\"background\",\"background\",\"background\",\"background\",\"background\",\"background\",\"background\",\"background\",\"background\",\"background\",\"background\",\"background\",\"background\",\"background\",\"background\",\"background\",\"background\",\"background\",\"background\",\"background\",\"background\",\"background\",\"background\",\"background\",\"background\",\"background\",\"background\",\"background\",\"background\",\"background\",\"background\",\"background\",\"background\",\"background\",\"background\",\"background\",\"background\",\"background\",\"background\",\"background\",\"background\",\"background\",\"background\",\"background\",\"background\",\"background\",\"background\",\"background\",\"background\",\"background\",\"background\",\"background\",\"background\",\"background\",\"background\",\"background\",\"background\",\"background\",\"background\",\"background\",\"background\",\"background\",\"background\",\"background\",\"background\",\"background\",\"background\",\"background\",\"background\",\"background\",\"background\",\"background\",\"background\",\"background\",\"background\",\"background\",\"background\",\"background\",\"background\",\"background\",\"background\",\"background\",\"background\",\"background\",\"background\",\"background\",\"background\",\"background\",\"background\",\"background\",\"background\",\"background\",\"background\",\"background\",\"background\",\"background\",\"background\",\"background\",\"background\",\"background\",\"background\",\"background\",\"background\",\"background\",\"background\",\"background\",\"background\",\"background\",\"background\",\"background\",\"background\",\"background\",\"background\",\"background\",\"background\",\"background\",\"background\",\"background\",\"background\",\"background\",\"background\",\"background\",\"background\",\"background\",\"background\",\"background\",\"background\",\"background\",\"background\",\"background\",\"background\",\"background\",\"background\",\"background\",\"background\",\"background\",\"background\",\"background\",\"background\",\"background\",\"background\",\"background\",\"background\",\"background\",\"background\",\"background\",\"background\",\"background\",\"background\",\"background\",\"background\",\"background\",\"background\",\"background\",\"background\",\"background\",\"background\",\"background\",\"background\",\"background\",\"background\",\"background\",\"background\",\"background\",\"background\",\"background\",\"background\",\"background\",\"background\",\"background\",\"background\",\"background\",\"background\",\"background\",\"background\",\"background\",\"background\",\"background\",\"background\",\"background\",\"background\",\"background\",\"background\",\"background\",\"background\",\"background\",\"background\",\"background\",\"background\",\"background\",\"background\",\"background\",\"background\",\"background\",\"background\",\"background\",\"background\",\"background\",\"background\",\"background\",\"background\",\"background\",\"background\",\"background\",\"background\",\"background\",\"background\",\"background\",\"background\",\"background\",\"background\",\"background\",\"background\",\"background\",\"background\",\"background\",\"background\",\"background\",\"background\",\"background\",\"background\",\"background\",\"background\",\"background\",\"background\",\"background\",\"background\",\"background\",\"background\",\"background\",\"background\",\"background\",\"background\",\"background\",\"background\",\"background\",\"background\",\"background\",\"background\",\"background\",\"background\",\"background\",\"background\",\"background\",\"background\",\"background\",\"background\",\"background\",\"background\",\"background\",\"background\",\"background\",\"background\",\"background\",\"background\",\"background\",\"background\",\"background\",\"background\",\"background\",\"background\",\"background\",\"background\",\"background\",\"background\",\"background\",\"background\",\"background\",\"background\",\"background\",\"background\",\"background\",\"background\",\"background\",\"background\",\"background\",\"background\",\"background\",\"background\",\"background\",\"background\",\"background\",\"background\",\"background\",\"background\",\"background\",\"background\",\"background\",\"background\",\"background\",\"background\",\"background\",\"background\",\"background\",\"background\",\"background\",\"background\",\"background\",\"background\",\"background\",\"background\",\"background\",\"background\",\"background\",\"background\",\"background\",\"background\",\"background\",\"background\",\"background\",\"background\",\"background\",\"background\",\"background\",\"background\",\"background\",\"background\",\"background\",\"background\",\"background\",\"background\",\"background\",\"background\",\"background\",\"background\",\"background\",\"background\",\"background\",\"background\",\"background\",\"background\",\"background\",\"background\",\"background\",\"background\",\"background\",\"background\",\"background\",\"background\",\"background\",\"background\",\"background\",\"background\",\"background\",\"background\",\"background\",\"background\",\"background\",\"background\",\"background\",\"background\",\"background\",\"background\",\"background\",\"background\",\"background\",\"background\",\"background\",\"background\",\"background\",\"background\",\"background\",\"background\",\"background\",\"background\",\"background\",\"background\",\"background\",\"background\",\"background\",\"background\",\"background\",\"background\",\"background\",\"background\",\"background\",\"background\",\"background\",\"background\",\"background\",\"background\",\"background\",\"background\",\"background\",\"background\",\"background\",\"background\",\"background\",\"background\",\"background\",\"background\",\"background\",\"background\",\"background\",\"background\",\"background\",\"background\",\"background\",\"background\",\"background\",\"background\",\"background\",\"background\",\"background\",\"background\",\"background\",\"background\",\"background\",\"background\",\"background\",\"background\",\"background\",\"background\",\"background\",\"background\",\"background\",\"background\",\"background\",\"background\",\"background\",\"background\",\"background\",\"background\",\"background\",\"background\",\"background\",\"background\",\"background\",\"background\",\"background\",\"background\",\"background\",\"background\",\"background\",\"background\",\"background\",\"background\",\"background\",\"background\",\"background\",\"background\",\"background\",\"background\",\"background\",\"background\",\"background\",\"background\",\"background\",\"background\",\"background\",\"background\",\"background\",\"background\",\"background\",\"background\",\"background\",\"background\",\"background\",\"background\",\"background\",\"background\",\"background\",\"background\",\"background\",\"background\",\"background\",\"background\",\"background\",\"background\",\"background\",\"background\",\"background\",\"background\",\"background\",\"background\",\"background\",\"background\",\"background\",\"background\",\"background\",\"background\",\"background\",\"background\",\"background\",\"background\",\"background\",\"background\",\"background\",\"background\",\"background\",\"background\",\"background\",\"background\",\"background\",\"background\",\"background\",\"background\",\"background\",\"background\",\"background\",\"background\",\"background\",\"background\",\"background\",\"background\",\"background\",\"background\",\"background\",\"background\",\"background\",\"background\",\"background\",\"background\",\"background\",\"background\",\"background\",\"background\",\"background\",\"background\",\"background\",\"background\",\"background\",\"background\"],\"index\":[0,1,2,3,4,5,6,7,8,9,10,11,12,13,14,15,16,17,18,19,20,21,22,23,24,25,26,27,28,29,30,31,32,33,34,35,36,37,38,39,40,41,42,43,44,45,46,47,48,49,50,51,52,53,54,55,56,57,58,59,60,61,62,63,64,65,66,67,68,69,70,71,72,73,74,75,76,77,78,79,80,81,82,83,84,85,86,87,88,89,90,91,92,93,94,95,96,97,98,99,100,101,102,103,104,105,106,107,108,109,110,111,112,113,114,115,116,117,118,119,120,121,122,123,124,125,126,127,128,129,130,131,132,133,134,135,136,137,138,139,140,141,142,143,144,145,146,147,148,149,150,151,152,153,154,155,156,157,158,159,160,161,162,163,164,165,166,167,168,169,170,171,172,173,174,175,176,177,178,179,180,181,182,183,184,185,186,187,188,189,190,191,192,193,194,195,196,197,198,199,200,201,202,203,204,205,206,207,208,209,210,211,212,213,214,215,216,217,218,219,220,221,222,223,224,225,226,227,228,229,230,231,232,233,234,235,236,237,238,239,240,241,242,243,244,245,246,247,248,249,250,251,252,253,254,255,256,257,258,259,260,261,262,263,264,265,266,267,268,269,270,271,272,273,274,275,276,277,278,279,280,281,282,283,284,285,286,287,288,289,290,291,292,293,294,295,296,297,298,299,300,301,302,303,304,305,306,307,308,309,310,311,312,313,314,315,316,317,318,319,320,321,322,323,324,325,326,327,328,329,330,331,332,333,334,335,336,337,338,339,340,341,342,343,344,345,346,347,348,349,350,351,352,353,354,355,356,357,358,359,360,361,362,363,364,365,366,367,368,369,370,371,372,373,374,375,376,377,378,379,380,381,382,383,384,385,386,387,388,389,390,391,392,393,394,395,396,397,398,399,400,401,402,403,404,405,406,407,408,409,410,411,412,413,414,415,416,417,418,419,420,421,422,423,424,425,426,427,428,429,430,431,432,433,434,435,436,437,438,439,440,441,442,443,444,445,446,447,448,449,450,451,452,453,454,455,456,457,458,459,460,461,462,463,464,465,466,467,468,469,470,471,472,473,474,475,476,477,478,479,480,481,482,483,484,485,486,487,488,489,490,491,492,493,494,495,496,497,498,499,500,501,502,503,504,505,506,507,508,509,510,511,512,513,514,515,516,517,518,519,520,521,522,523,524,525,526,527,528,529,530,531,532,533,534,535,536,537,538,539,540,541,542,543,544,545,546,547,548,549,550,551,552,553,554,555,556,557,558,559,560,561,562,563,564,565,566,567,568,569,570,571,572,573,574,575,576,577,578,579,580,581,582,583,584,585,586,587,588,589,590,591,592,593,594,595,596,597,598,599,600,601,602,603,604,605,606,607,608,609,610,611,612,613,614,615,616,617,618,619,620,621,622,623,624,625,626,627,628,629,630,631,632,633,634,635,636,637,638,639,640,641,642,643,644,645,646,647,648,649,650,651,652,653,654,655],\"label\":{\"__ndarray__\":\"AAAAAAAAAAAAAAAAAAAAAAAAAAAAAAAAAAAAAAAAAAAAAAAAAAAAAAAAAAAAAAAAAAAAAAAAAAAAAAAAAAAAAAAAAAAAAAAAAAAAAAAAAAAAAAAAAAAAAAAAAAAAAAAAAAAAAAAAAAAAAAAAAAAAAAAAAAAAAAAAAAAAAAAAAAAAAAAAAAAAAAAAAAAAAAAAAAAAAAAAAAAAAAAAAAAAAAAAAAAAAAAAAAAAAAAAAAAAAAAAAAAAAAAAAAAAAAAAAAAAAAAAAAAAAAAAAAAAAAAAAAAAAAAAAAAAAAAAAAAAAAAAAAAAAAAAAAAAAAAAAAAAAAAAAAAAAAAAAAAAAAAAAAAAAAAAAAAAAAAAAAAAAAAAAAAAAAAAAAAAAAAAAAAAAAAAAAAAAAAAAAAAAAAAAAAAAAAAAAAAAAAAAAAAAAAAAAAAAAAAAAAAAAAAAAAAAAAAAAAAAAAAAAAAAAAAAAAAAAAAAAAAAAAAAAAAAAAAAAAAAAAAAAAAAAAAAAAAAAAAAAAAAAAAAAAAAAAAAAAAAAAAAAAAAAAAAAAAAAAAAAAAAAAAAAAAAAAAAAAAAAAAAAAAAAAAAAAAAAAAAAAAAAAAAAAAAAAAAAAAAAAAAAAAAAAAAAAAAAAAAAAAAAAAAAAAAAAAAAAAAAAAAAAAAAAAAAAAAAAAAAAAAAAAAAAAAAAAAAAAAAAAAAAAAAAAAAAAAAAAAAAAAAAAAAAAAAAAAAAAAAAAAAAAAAAAAAAAAAAAAAAAAAAAAAAAAAAAAAAAAAAAAAAAAAAAAAAAAAAAAAAAAAAAAAAAAAAAAAAAAAAAAAAAAAAAAAAAAAAAAAAAAAAAAAAAAAAAAAAAAAAAAAAAAAAAAAA=\",\"dtype\":\"int8\",\"order\":\"little\",\"shape\":[656]},\"start\":[\"6.521\",\"70.521\",\"146.45625\",\"342.485\",\"355.49775\",\"439.54525\",\"468.71425\",\"706.69125\",\"954.43475\",\"986.452\",\"1006.65725\",\"1170.62775\",\"1227.62025\",\"1244.29125\",\"1251.73775\",\"1384.0345\",\"1627.39225\",\"1639.5815\",\"1832.52175\",\"1883.72175\",\"1909.32175\",\"2013.7325\",\"2090.5325\",\"2244.1325\",\"2258.42875\",\"2269.7325\",\"2282.5325\",\"2296.82875\",\"2308.1325\",\"2515.575\",\"2551.3325\",\"2589.7325\",\"2666.5325\",\"2679.3325\",\"2845.7325\",\"2873.975\",\"2911.82575\",\"3308.62575\",\"3385.42575\",\"3423.82575\",\"3462.22575\",\"6.521\",\"70.521\",\"146.45625\",\"342.485\",\"355.49775\",\"439.54525\",\"468.71425\",\"706.69125\",\"954.43475\",\"986.452\",\"1006.65725\",\"1170.62775\",\"1227.62025\",\"1244.29125\",\"1251.73775\",\"1384.0345\",\"1627.39225\",\"1639.5815\",\"1832.52175\",\"1883.72175\",\"1909.32175\",\"2013.7325\",\"2090.5325\",\"2244.1325\",\"2258.42875\",\"2269.7325\",\"2282.5325\",\"2296.82875\",\"2308.1325\",\"2515.575\",\"2551.3325\",\"2589.7325\",\"2666.5325\",\"2679.3325\",\"2845.7325\",\"2873.975\",\"2911.82575\",\"3308.62575\",\"3385.42575\",\"3423.82575\",\"3462.22575\",\"6.521\",\"70.521\",\"146.45625\",\"342.485\",\"355.49775\",\"439.54525\",\"468.71425\",\"706.69125\",\"954.43475\",\"986.452\",\"1006.65725\",\"1170.62775\",\"1227.62025\",\"1244.29125\",\"1251.73775\",\"1384.0345\",\"1627.39225\",\"1639.5815\",\"1832.52175\",\"1883.72175\",\"1909.32175\",\"2013.7325\",\"2090.5325\",\"2244.1325\",\"2258.42875\",\"2269.7325\",\"2282.5325\",\"2296.82875\",\"2308.1325\",\"2515.575\",\"2551.3325\",\"2589.7325\",\"2666.5325\",\"2679.3325\",\"2845.7325\",\"2873.975\",\"2911.82575\",\"3308.62575\",\"3385.42575\",\"3423.82575\",\"3462.22575\",\"6.521\",\"70.521\",\"146.45625\",\"342.485\",\"355.49775\",\"439.54525\",\"468.71425\",\"706.69125\",\"954.43475\",\"986.452\",\"1006.65725\",\"1170.62775\",\"1227.62025\",\"1244.29125\",\"1251.73775\",\"1384.0345\",\"1627.39225\",\"1639.5815\",\"1832.52175\",\"1883.72175\",\"1909.32175\",\"2013.7325\",\"2090.5325\",\"2244.1325\",\"2258.42875\",\"2269.7325\",\"2282.5325\",\"2296.82875\",\"2308.1325\",\"2515.575\",\"2551.3325\",\"2589.7325\",\"2666.5325\",\"2679.3325\",\"2845.7325\",\"2873.975\",\"2911.82575\",\"3308.62575\",\"3385.42575\",\"3423.82575\",\"3462.22575\",\"6.521\",\"70.521\",\"146.45625\",\"342.485\",\"355.49775\",\"439.54525\",\"468.71425\",\"706.69125\",\"954.43475\",\"986.452\",\"1006.65725\",\"1170.62775\",\"1227.62025\",\"1244.29125\",\"1251.73775\",\"1384.0345\",\"1627.39225\",\"1639.5815\",\"1832.52175\",\"1883.72175\",\"1909.32175\",\"2013.7325\",\"2090.5325\",\"2244.1325\",\"2258.42875\",\"2269.7325\",\"2282.5325\",\"2296.82875\",\"2308.1325\",\"2515.575\",\"2551.3325\",\"2589.7325\",\"2666.5325\",\"2679.3325\",\"2845.7325\",\"2873.975\",\"2911.82575\",\"3308.62575\",\"3385.42575\",\"3423.82575\",\"3462.22575\",\"6.521\",\"70.521\",\"146.45625\",\"342.485\",\"355.49775\",\"439.54525\",\"468.71425\",\"706.69125\",\"954.43475\",\"986.452\",\"1006.65725\",\"1170.62775\",\"1227.62025\",\"1244.29125\",\"1251.73775\",\"1384.0345\",\"1627.39225\",\"1639.5815\",\"1832.52175\",\"1883.72175\",\"1909.32175\",\"2013.7325\",\"2090.5325\",\"2244.1325\",\"2258.42875\",\"2269.7325\",\"2282.5325\",\"2296.82875\",\"2308.1325\",\"2515.575\",\"2551.3325\",\"2589.7325\",\"2666.5325\",\"2679.3325\",\"2845.7325\",\"2873.975\",\"2911.82575\",\"3308.62575\",\"3385.42575\",\"3423.82575\",\"3462.22575\",\"6.521\",\"70.521\",\"146.45625\",\"342.485\",\"355.49775\",\"439.54525\",\"468.71425\",\"706.69125\",\"954.43475\",\"986.452\",\"1006.65725\",\"1170.62775\",\"1227.62025\",\"1244.29125\",\"1251.73775\",\"1384.0345\",\"1627.39225\",\"1639.5815\",\"1832.52175\",\"1883.72175\",\"1909.32175\",\"2013.7325\",\"2090.5325\",\"2244.1325\",\"2258.42875\",\"2269.7325\",\"2282.5325\",\"2296.82875\",\"2308.1325\",\"2515.575\",\"2551.3325\",\"2589.7325\",\"2666.5325\",\"2679.3325\",\"2845.7325\",\"2873.975\",\"2911.82575\",\"3308.62575\",\"3385.42575\",\"3423.82575\",\"3462.22575\",\"6.521\",\"70.521\",\"146.45625\",\"342.485\",\"355.49775\",\"439.54525\",\"468.71425\",\"706.69125\",\"954.43475\",\"986.452\",\"1006.65725\",\"1170.62775\",\"1227.62025\",\"1244.29125\",\"1251.73775\",\"1384.0345\",\"1627.39225\",\"1639.5815\",\"1832.52175\",\"1883.72175\",\"1909.32175\",\"2013.7325\",\"2090.5325\",\"2244.1325\",\"2258.42875\",\"2269.7325\",\"2282.5325\",\"2296.82875\",\"2308.1325\",\"2515.575\",\"2551.3325\",\"2589.7325\",\"2666.5325\",\"2679.3325\",\"2845.7325\",\"2873.975\",\"2911.82575\",\"3308.62575\",\"3385.42575\",\"3423.82575\",\"3462.22575\",\"6.521\",\"70.521\",\"146.45625\",\"342.485\",\"355.49775\",\"439.54525\",\"468.71425\",\"706.69125\",\"954.43475\",\"986.452\",\"1006.65725\",\"1170.62775\",\"1227.62025\",\"1244.29125\",\"1251.73775\",\"1384.0345\",\"1627.39225\",\"1639.5815\",\"1832.52175\",\"1883.72175\",\"1909.32175\",\"2013.7325\",\"2090.5325\",\"2244.1325\",\"2258.42875\",\"2269.7325\",\"2282.5325\",\"2296.82875\",\"2308.1325\",\"2515.575\",\"2551.3325\",\"2589.7325\",\"2666.5325\",\"2679.3325\",\"2845.7325\",\"2873.975\",\"2911.82575\",\"3308.62575\",\"3385.42575\",\"3423.82575\",\"3462.22575\",\"6.521\",\"70.521\",\"146.45625\",\"342.485\",\"355.49775\",\"439.54525\",\"468.71425\",\"706.69125\",\"954.43475\",\"986.452\",\"1006.65725\",\"1170.62775\",\"1227.62025\",\"1244.29125\",\"1251.73775\",\"1384.0345\",\"1627.39225\",\"1639.5815\",\"1832.52175\",\"1883.72175\",\"1909.32175\",\"2013.7325\",\"2090.5325\",\"2244.1325\",\"2258.42875\",\"2269.7325\",\"2282.5325\",\"2296.82875\",\"2308.1325\",\"2515.575\",\"2551.3325\",\"2589.7325\",\"2666.5325\",\"2679.3325\",\"2845.7325\",\"2873.975\",\"2911.82575\",\"3308.62575\",\"3385.42575\",\"3423.82575\",\"3462.22575\",\"6.521\",\"70.521\",\"146.45625\",\"342.485\",\"355.49775\",\"439.54525\",\"468.71425\",\"706.69125\",\"954.43475\",\"986.452\",\"1006.65725\",\"1170.62775\",\"1227.62025\",\"1244.29125\",\"1251.73775\",\"1384.0345\",\"1627.39225\",\"1639.5815\",\"1832.52175\",\"1883.72175\",\"1909.32175\",\"2013.7325\",\"2090.5325\",\"2244.1325\",\"2258.42875\",\"2269.7325\",\"2282.5325\",\"2296.82875\",\"2308.1325\",\"2515.575\",\"2551.3325\",\"2589.7325\",\"2666.5325\",\"2679.3325\",\"2845.7325\",\"2873.975\",\"2911.82575\",\"3308.62575\",\"3385.42575\",\"3423.82575\",\"3462.22575\",\"6.521\",\"70.521\",\"146.45625\",\"342.485\",\"355.49775\",\"439.54525\",\"468.71425\",\"706.69125\",\"954.43475\",\"986.452\",\"1006.65725\",\"1170.62775\",\"1227.62025\",\"1244.29125\",\"1251.73775\",\"1384.0345\",\"1627.39225\",\"1639.5815\",\"1832.52175\",\"1883.72175\",\"1909.32175\",\"2013.7325\",\"2090.5325\",\"2244.1325\",\"2258.42875\",\"2269.7325\",\"2282.5325\",\"2296.82875\",\"2308.1325\",\"2515.575\",\"2551.3325\",\"2589.7325\",\"2666.5325\",\"2679.3325\",\"2845.7325\",\"2873.975\",\"2911.82575\",\"3308.62575\",\"3385.42575\",\"3423.82575\",\"3462.22575\",\"6.521\",\"70.521\",\"146.45625\",\"342.485\",\"355.49775\",\"439.54525\",\"468.71425\",\"706.69125\",\"954.43475\",\"986.452\",\"1006.65725\",\"1170.62775\",\"1227.62025\",\"1244.29125\",\"1251.73775\",\"1384.0345\",\"1627.39225\",\"1639.5815\",\"1832.52175\",\"1883.72175\",\"1909.32175\",\"2013.7325\",\"2090.5325\",\"2244.1325\",\"2258.42875\",\"2269.7325\",\"2282.5325\",\"2296.82875\",\"2308.1325\",\"2515.575\",\"2551.3325\",\"2589.7325\",\"2666.5325\",\"2679.3325\",\"2845.7325\",\"2873.975\",\"2911.82575\",\"3308.62575\",\"3385.42575\",\"3423.82575\",\"3462.22575\",\"6.521\",\"70.521\",\"146.45625\",\"342.485\",\"355.49775\",\"439.54525\",\"468.71425\",\"706.69125\",\"954.43475\",\"986.452\",\"1006.65725\",\"1170.62775\",\"1227.62025\",\"1244.29125\",\"1251.73775\",\"1384.0345\",\"1627.39225\",\"1639.5815\",\"1832.52175\",\"1883.72175\",\"1909.32175\",\"2013.7325\",\"2090.5325\",\"2244.1325\",\"2258.42875\",\"2269.7325\",\"2282.5325\",\"2296.82875\",\"2308.1325\",\"2515.575\",\"2551.3325\",\"2589.7325\",\"2666.5325\",\"2679.3325\",\"2845.7325\",\"2873.975\",\"2911.82575\",\"3308.62575\",\"3385.42575\",\"3423.82575\",\"3462.22575\",\"6.521\",\"70.521\",\"146.45625\",\"342.485\",\"355.49775\",\"439.54525\",\"468.71425\",\"706.69125\",\"954.43475\",\"986.452\",\"1006.65725\",\"1170.62775\",\"1227.62025\",\"1244.29125\",\"1251.73775\",\"1384.0345\",\"1627.39225\",\"1639.5815\",\"1832.52175\",\"1883.72175\",\"1909.32175\",\"2013.7325\",\"2090.5325\",\"2244.1325\",\"2258.42875\",\"2269.7325\",\"2282.5325\",\"2296.82875\",\"2308.1325\",\"2515.575\",\"2551.3325\",\"2589.7325\",\"2666.5325\",\"2679.3325\",\"2845.7325\",\"2873.975\",\"2911.82575\",\"3308.62575\",\"3385.42575\",\"3423.82575\",\"3462.22575\",\"6.521\",\"70.521\",\"146.45625\",\"342.485\",\"355.49775\",\"439.54525\",\"468.71425\",\"706.69125\",\"954.43475\",\"986.452\",\"1006.65725\",\"1170.62775\",\"1227.62025\",\"1244.29125\",\"1251.73775\",\"1384.0345\",\"1627.39225\",\"1639.5815\",\"1832.52175\",\"1883.72175\",\"1909.32175\",\"2013.7325\",\"2090.5325\",\"2244.1325\",\"2258.42875\",\"2269.7325\",\"2282.5325\",\"2296.82875\",\"2308.1325\",\"2515.575\",\"2551.3325\",\"2589.7325\",\"2666.5325\",\"2679.3325\",\"2845.7325\",\"2873.975\",\"2911.82575\",\"3308.62575\",\"3385.42575\",\"3423.82575\",\"3462.22575\"],\"subject\":[\"DATA\",\"DATA\",\"DATA\",\"DATA\",\"DATA\",\"DATA\",\"DATA\",\"DATA\",\"DATA\",\"DATA\",\"DATA\",\"DATA\",\"DATA\",\"DATA\",\"DATA\",\"DATA\",\"DATA\",\"DATA\",\"DATA\",\"DATA\",\"DATA\",\"DATA\",\"DATA\",\"DATA\",\"DATA\",\"DATA\",\"DATA\",\"DATA\",\"DATA\",\"DATA\",\"DATA\",\"DATA\",\"DATA\",\"DATA\",\"DATA\",\"DATA\",\"DATA\",\"DATA\",\"DATA\",\"DATA\",\"DATA\",\"DATA\",\"DATA\",\"DATA\",\"DATA\",\"DATA\",\"DATA\",\"DATA\",\"DATA\",\"DATA\",\"DATA\",\"DATA\",\"DATA\",\"DATA\",\"DATA\",\"DATA\",\"DATA\",\"DATA\",\"DATA\",\"DATA\",\"DATA\",\"DATA\",\"DATA\",\"DATA\",\"DATA\",\"DATA\",\"DATA\",\"DATA\",\"DATA\",\"DATA\",\"DATA\",\"DATA\",\"DATA\",\"DATA\",\"DATA\",\"DATA\",\"DATA\",\"DATA\",\"DATA\",\"DATA\",\"DATA\",\"DATA\",\"DATA\",\"DATA\",\"DATA\",\"DATA\",\"DATA\",\"DATA\",\"DATA\",\"DATA\",\"DATA\",\"DATA\",\"DATA\",\"DATA\",\"DATA\",\"DATA\",\"DATA\",\"DATA\",\"DATA\",\"DATA\",\"DATA\",\"DATA\",\"DATA\",\"DATA\",\"DATA\",\"DATA\",\"DATA\",\"DATA\",\"DATA\",\"DATA\",\"DATA\",\"DATA\",\"DATA\",\"DATA\",\"DATA\",\"DATA\",\"DATA\",\"DATA\",\"DATA\",\"DATA\",\"DATA\",\"DATA\",\"DATA\",\"DATA\",\"DATA\",\"DATA\",\"DATA\",\"DATA\",\"DATA\",\"DATA\",\"DATA\",\"DATA\",\"DATA\",\"DATA\",\"DATA\",\"DATA\",\"DATA\",\"DATA\",\"DATA\",\"DATA\",\"DATA\",\"DATA\",\"DATA\",\"DATA\",\"DATA\",\"DATA\",\"DATA\",\"DATA\",\"DATA\",\"DATA\",\"DATA\",\"DATA\",\"DATA\",\"DATA\",\"DATA\",\"DATA\",\"DATA\",\"DATA\",\"DATA\",\"DATA\",\"DATA\",\"DATA\",\"DATA\",\"DATA\",\"DATA\",\"DATA\",\"DATA\",\"DATA\",\"DATA\",\"DATA\",\"DATA\",\"DATA\",\"DATA\",\"DATA\",\"DATA\",\"DATA\",\"DATA\",\"DATA\",\"DATA\",\"DATA\",\"DATA\",\"DATA\",\"DATA\",\"DATA\",\"DATA\",\"DATA\",\"DATA\",\"DATA\",\"DATA\",\"DATA\",\"DATA\",\"DATA\",\"DATA\",\"DATA\",\"DATA\",\"DATA\",\"DATA\",\"DATA\",\"DATA\",\"DATA\",\"DATA\",\"DATA\",\"DATA\",\"DATA\",\"DATA\",\"DATA\",\"DATA\",\"DATA\",\"DATA\",\"DATA\",\"DATA\",\"DATA\",\"DATA\",\"DATA\",\"DATA\",\"DATA\",\"DATA\",\"DATA\",\"DATA\",\"DATA\",\"DATA\",\"DATA\",\"DATA\",\"DATA\",\"DATA\",\"DATA\",\"DATA\",\"DATA\",\"DATA\",\"DATA\",\"DATA\",\"DATA\",\"DATA\",\"DATA\",\"DATA\",\"DATA\",\"DATA\",\"DATA\",\"DATA\",\"DATA\",\"DATA\",\"DATA\",\"DATA\",\"DATA\",\"DATA\",\"DATA\",\"DATA\",\"DATA\",\"DATA\",\"DATA\",\"DATA\",\"DATA\",\"DATA\",\"DATA\",\"DATA\",\"DATA\",\"DATA\",\"DATA\",\"DATA\",\"DATA\",\"DATA\",\"DATA\",\"DATA\",\"DATA\",\"DATA\",\"DATA\",\"DATA\",\"DATA\",\"DATA\",\"DATA\",\"DATA\",\"DATA\",\"DATA\",\"DATA\",\"DATA\",\"DATA\",\"DATA\",\"DATA\",\"DATA\",\"DATA\",\"DATA\",\"DATA\",\"DATA\",\"DATA\",\"DATA\",\"DATA\",\"DATA\",\"DATA\",\"DATA\",\"DATA\",\"DATA\",\"DATA\",\"DATA\",\"DATA\",\"DATA\",\"DATA\",\"DATA\",\"DATA\",\"DATA\",\"DATA\",\"DATA\",\"DATA\",\"DATA\",\"DATA\",\"DATA\",\"DATA\",\"DATA\",\"DATA\",\"DATA\",\"DATA\",\"DATA\",\"DATA\",\"DATA\",\"DATA\",\"DATA\",\"DATA\",\"DATA\",\"DATA\",\"DATA\",\"DATA\",\"DATA\",\"DATA\",\"DATA\",\"DATA\",\"DATA\",\"DATA\",\"DATA\",\"DATA\",\"DATA\",\"DATA\",\"DATA\",\"DATA\",\"DATA\",\"DATA\",\"DATA\",\"DATA\",\"DATA\",\"DATA\",\"DATA\",\"DATA\",\"DATA\",\"DATA\",\"DATA\",\"DATA\",\"DATA\",\"DATA\",\"DATA\",\"DATA\",\"DATA\",\"DATA\",\"DATA\",\"DATA\",\"DATA\",\"DATA\",\"DATA\",\"DATA\",\"DATA\",\"DATA\",\"DATA\",\"DATA\",\"DATA\",\"DATA\",\"DATA\",\"DATA\",\"DATA\",\"DATA\",\"DATA\",\"DATA\",\"DATA\",\"DATA\",\"DATA\",\"DATA\",\"DATA\",\"DATA\",\"DATA\",\"DATA\",\"DATA\",\"DATA\",\"DATA\",\"DATA\",\"DATA\",\"DATA\",\"DATA\",\"DATA\",\"DATA\",\"DATA\",\"DATA\",\"DATA\",\"DATA\",\"DATA\",\"DATA\",\"DATA\",\"DATA\",\"DATA\",\"DATA\",\"DATA\",\"DATA\",\"DATA\",\"DATA\",\"DATA\",\"DATA\",\"DATA\",\"DATA\",\"DATA\",\"DATA\",\"DATA\",\"DATA\",\"DATA\",\"DATA\",\"DATA\",\"DATA\",\"DATA\",\"DATA\",\"DATA\",\"DATA\",\"DATA\",\"DATA\",\"DATA\",\"DATA\",\"DATA\",\"DATA\",\"DATA\",\"DATA\",\"DATA\",\"DATA\",\"DATA\",\"DATA\",\"DATA\",\"DATA\",\"DATA\",\"DATA\",\"DATA\",\"DATA\",\"DATA\",\"DATA\",\"DATA\",\"DATA\",\"DATA\",\"DATA\",\"DATA\",\"DATA\",\"DATA\",\"DATA\",\"DATA\",\"DATA\",\"DATA\",\"DATA\",\"DATA\",\"DATA\",\"DATA\",\"DATA\",\"DATA\",\"DATA\",\"DATA\",\"DATA\",\"DATA\",\"DATA\",\"DATA\",\"DATA\",\"DATA\",\"DATA\",\"DATA\",\"DATA\",\"DATA\",\"DATA\",\"DATA\",\"DATA\",\"DATA\",\"DATA\",\"DATA\",\"DATA\",\"DATA\",\"DATA\",\"DATA\",\"DATA\",\"DATA\",\"DATA\",\"DATA\",\"DATA\",\"DATA\",\"DATA\",\"DATA\",\"DATA\",\"DATA\",\"DATA\",\"DATA\",\"DATA\",\"DATA\",\"DATA\",\"DATA\",\"DATA\",\"DATA\",\"DATA\",\"DATA\",\"DATA\",\"DATA\",\"DATA\",\"DATA\",\"DATA\",\"DATA\",\"DATA\",\"DATA\",\"DATA\",\"DATA\",\"DATA\",\"DATA\",\"DATA\",\"DATA\",\"DATA\",\"DATA\",\"DATA\",\"DATA\",\"DATA\",\"DATA\",\"DATA\",\"DATA\",\"DATA\",\"DATA\",\"DATA\",\"DATA\",\"DATA\",\"DATA\",\"DATA\",\"DATA\",\"DATA\",\"DATA\",\"DATA\",\"DATA\",\"DATA\",\"DATA\",\"DATA\",\"DATA\",\"DATA\",\"DATA\",\"DATA\",\"DATA\",\"DATA\",\"DATA\",\"DATA\",\"DATA\",\"DATA\",\"DATA\",\"DATA\",\"DATA\",\"DATA\",\"DATA\",\"DATA\",\"DATA\",\"DATA\",\"DATA\",\"DATA\",\"DATA\",\"DATA\",\"DATA\",\"DATA\",\"DATA\",\"DATA\",\"DATA\",\"DATA\",\"DATA\",\"DATA\",\"DATA\",\"DATA\",\"DATA\",\"DATA\",\"DATA\",\"DATA\",\"DATA\",\"DATA\",\"DATA\",\"DATA\",\"DATA\",\"DATA\",\"DATA\",\"DATA\",\"DATA\",\"DATA\",\"DATA\",\"DATA\",\"DATA\",\"DATA\",\"DATA\",\"DATA\",\"DATA\",\"DATA\",\"DATA\",\"DATA\",\"DATA\",\"DATA\",\"DATA\",\"DATA\",\"DATA\",\"DATA\",\"DATA\",\"DATA\",\"DATA\",\"DATA\",\"DATA\",\"DATA\",\"DATA\",\"DATA\",\"DATA\",\"DATA\",\"DATA\",\"DATA\",\"DATA\",\"DATA\",\"DATA\",\"DATA\",\"DATA\",\"DATA\",\"DATA\",\"DATA\",\"DATA\",\"DATA\",\"DATA\",\"DATA\",\"DATA\",\"DATA\",\"DATA\",\"DATA\",\"DATA\",\"DATA\",\"DATA\",\"DATA\",\"DATA\",\"DATA\",\"DATA\",\"DATA\",\"DATA\",\"DATA\",\"DATA\",\"DATA\",\"DATA\",\"DATA\",\"DATA\",\"DATA\",\"DATA\",\"DATA\",\"DATA\",\"DATA\",\"DATA\",\"DATA\",\"DATA\",\"DATA\",\"DATA\",\"DATA\",\"DATA\",\"DATA\",\"DATA\",\"DATA\",\"DATA\",\"DATA\",\"DATA\",\"DATA\",\"DATA\"],\"x\":{\"__ndarray__\":\"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\",\"dtype\":\"float32\",\"order\":\"little\",\"shape\":[656]},\"y\":{\"__ndarray__\":\"y6CxQPTUSkEs1N/AfT6kQcLpr0Cb5KnBZ2vxQD17xEE+UplBqufJQUA7mMCN6LpAdL0owWyrCsCAsalBECsdQV6n5EFnkipBI6pbQOKHwcAP+SxBFrc5wNzyzUGFT71BspGqvxaJ5b1VV2RBC01OwUjMvz6TO0bAt7fXwMViZMEk3/xBCL8KQYKWv8GVfYbBvKyDQQqZasGupaNBh3W9QFFfqUBAbLBA7tNKQWvq5MAz7KRBQRytQCyGqsEOyPBAk0fEQR/5mUFsFMpBu9SYwI61uEAG8SfBNi4IwK9XqkF89B1BoffjQRBiKEEEsF5A7UzAwOVsK0GcIDXAft3OQWF8vUEsupu/7N4SvosdZUH+7E7BIzyqPpHJQMDB+NfA3t1lwUAR/UEjvwpB/aK/wVdsh8H3RoRBCudrwT1do0GKBrlAzGOpQDHtsEA/BExBYWPiwDxGpUG39rBAMdGqwSid8EBMkMNBue+ZQT2gyUF865jAgny7QIEiKcEfSw3AsAaqQbKIHEGXA+RBbXEoQaC2X0AJh8DAwHgtQZgGOMDaEs9BCmK9QWWepL/NdM29Z8BjQdSqT8GVMLo+qWtCwIjq0sC/dmTBWt78QRrQCkFgbb/BiTqHwUGWg0Fu/mrBPjyjQS77vkAtOqpAheOvQHivS0HVGOHAwJylQQrTrkAzY6rByDHwQEGlxEHrKZlBSMbJQU7UlcBO7rlAyusnweP8C8CKBapBJPIcQQIR5EEZSCdBOtNjQJ+gwMAguStBtT82wD+HzkGzt71BCg2qvxl8Fr6iqmNB/39OwT9Guz5CHUTAHqzWwBMaZcHWavxB/tIIQT48v8FAPIfB3laDQaAhasEm0KJBI1O9QDXYq0Di+LBAFVFLQbPb5cD/RqRBZiKuQPt9qsHitO5AhLDEQQ/8mEGwaMlBLKOXwNNTuUD2qSjBrvsGwGUOqkEU8BxBsYDkQYX7KEEl8F9AV+6/wFEWLUGJnzHAeL7OQXbqvEE4L6i/VRcbvqfKYkHadk7BFAGoPvRKQ8CNidXAG4hkwaWM/EGtgwhBSoC/wThVh8FnZoRBpAtqwVvLo0EAvr5AjD2qQACGskCIvUtBCujiwI9vpEF9pK5AR2WqwUEM70Ag/MRBVrOZQUNkyUFNvpbA5OG2QFQlKcGr9wPAilyqQfZKHUF63uRBDcooQdILXEBzV8HAZiMsQaFROMBObM9B5Pu8QYXkqr+MNxy+lidkQYHVTsFv+NA+/VJCwJJM1cBZ42TBSCv9QULJCEHAC7/BeZOHwZARhEGty2rBC+6iQd66ukDeMaxAGQ6wQOykS0FnauTATtukQcFKrUDuQKrBRNntQBrcxEEJy5hB/JTJQdErlsDL9bhADlMowVUUCMCN46lBQS8dQc0z5EH6+ChBtQRgQDCKvsBFmitB9EI1wDYOz0FPD71BvZGjvz3RsL1WDWVB6KBOwXljnj7PsUPAA2vWwCXLZsEcN/1BhUoKQZ7svsF01YbBC1GEQb+GasEYe6NBaz/AQKndqkDgqLFAaFNJQXAb5cDfWKRBnrCwQAa3qsH6JfBA1nvEQeNBmkFkSMlBhkOXwJ/JuUC1eijB/VgIwMe2qUH9aBxB5PnjQcKqKEHl2V1AbgbBwDNeLEFjajzAylLOQaWevUHpN6C/+Vi/vRjOY0FHWU/BMbylPi0nQsA8WNbA4rVlwYyI/EG61ApBpA6/wRVhh8H+EoRBamppweIjo0E1Gr9AWKqrQHNxtEBRZktB3CjjwB98pEGdvrFA6UmqwehX70Azq8NBWYCZQXxGyUG+r5fAt1K8QHqUKMGsKw3A8c6pQWasHEFzCuRBaUAoQbfIW0CsF7/AFFwsQRz8OMAcQc5BRau9QU7/pr/nNt29srBkQR33TsFO9rU+80I/wE/J1cBmHWXBhGD9QUgoCkE4Lr/BriqHwVXWg0F+IGrBor2iQZznvEA0YKlAGq6uQET7SkHNG+LAg/ekQWPbr0Cff6rBT0HwQFvzxEGyoplBNp7JQf/QlMD1MrtA6SwowWwnCMBEMKpB6SweQYyf5EGFYShBmUFaQFTYwMD0gSxBCQ40wH99zkFgvb1BQi+ov0E3urzQoGRBC9BPwYIxwD7n5z7AxQ3XwJHeZMH+OPxBkJwKQWNrv8FJJ4fBDFGEQStIasEpf6NBz2a/QFl/qEBu/LBAGMBLQRD54cD8y6RBeg+uQJJAqsEY0u9Al6zEQQB4mUEigMlB47GWwBV3ukDGhifBPoMLwAzYqUFfkxxBKtDjQW7rJ0FsKF9AF5rBwCi4K0HHqjfA4GjOQR00vUGaJ6m/klFYvaZWZEE1xlDBxbupPib/RMBeGdXAWFVkwfbt/EFhSAlB3/a/wYL/hsH2poNBzclpwfdHo0GKFL1ApOipQMqprkA7C0tB2ePhwBX3pEG6RK5AMbCqwStx8EBy4MNB4IyZQaRDyUFJbJnAWNW4QLVBKMEjcw7A7nipQc4qHUFs3ONBq4MoQWMKXUAxvcLAwlYsQR2NNMDi+M5Bx8u9QU3+qr9wBJi9hBtkQTU0T8Eau6I+j3JAwBUO1sDtz2TBo6X8Qd5tCkGdbL/B/1+HwToAhEE0Y2rBB26jQcCcvEA3TKtA7rqwQNZiS0HCPOTAxWakQcK+r0DY0qrBiWnxQCqzxEFzh5lBTETKQUTmlMBiEblAtsEowSssD8BG5KlB+l8eQamk5EEvPSpBDH9kQKW4wMAe8yxBsRg1wBXNzkGGtb1BYbiov4STlb0jL2RBNiJQwcDquj4DeT3AynXVwAw9ZcFE6PxBwzsKQbPFv8HgIIfB5DOEQXkUa8HpeaNBPqy+QO7CqEDkULBAQAJMQaXc4sB/oKRBQnCuQN9+qsHC4+9AsjfEQcPhmUEev8lBWi2VwP6XuUD0aSjB4X0NwIC3qUGx9R1BT0zkQZV9KUHEIFxAqFDEwAl8LEHlxzXA9CfPQdGYvUFn+ay/+U3gvXO5ZUG4507Bed+mPgwqQ8D+8dXATm9kwS3I/EEkvwlB0/a/wc6Rh8GkEIRBjHZqwWQpo0H2a75AZdCpQLfOskBD2kpB1aHiwN4lpUHyZLBAVQarwTiO7UAGXMRBy9+ZQdKPyUGQcZbAeEO6QFFeKcEDEwvA3f2pQV+cHEGtmuNBwCcpQRr6X0AUTMDA34QqQVYwNcCJ3c5BVAG+QSl/sr+W7am9cCJkQWUPUMEjE4s+JMBAwAS71cDMJ2TB3Nj8QefHCUEb1r/ByQyHwVB0g0FY4mrBDECjQeWZvEAJoKlAbf2wQN0+S0Eu0eLA3OKkQdF4r0BYearB+ITxQGozxEGvJZpB03rJQYnklsCTVLlAxUEowQp4CcCGa6lBsuEcQbTl40EArShB03FcQHLvwcCCNitBZ7E2wJvJzkHsc71Bm0ijv7wL9b3+7GRBDm1PwRIOwD4vUEDA4T7VwLBrZcETvvxBgDUKQQ/JvsHSYIfBvIeDQbmVasFpd6NBKI6/QIFCq0A=\",\"dtype\":\"float32\",\"order\":\"little\",\"shape\":[656]}},\"selected\":{\"id\":\"1052\"},\"selection_policy\":{\"id\":\"1051\"}},\"id\":\"1003\",\"type\":\"ColumnDataSource\"},{\"attributes\":{\"axis\":{\"id\":\"1013\"},\"coordinates\":null,\"group\":null,\"ticker\":null,\"visible\":false},\"id\":\"1016\",\"type\":\"Grid\"},{\"attributes\":{},\"id\":\"1052\",\"type\":\"Selection\"},{\"attributes\":{},\"id\":\"1007\",\"type\":\"DataRange1d\"},{\"attributes\":{},\"id\":\"1049\",\"type\":\"BasicTickFormatter\"},{\"attributes\":{},\"id\":\"1022\",\"type\":\"WheelZoomTool\"},{\"attributes\":{\"tools\":[{\"id\":\"1021\"},{\"id\":\"1022\"},{\"id\":\"1023\"},{\"id\":\"1024\"},{\"id\":\"1025\"},{\"id\":\"1026\"},{\"id\":\"1028\"}]},\"id\":\"1029\",\"type\":\"Toolbar\"},{\"attributes\":{\"fill_alpha\":{\"value\":0.1},\"fill_color\":{\"field\":\"color\"},\"hatch_alpha\":{\"value\":0.1},\"hatch_color\":{\"field\":\"color\"},\"line_alpha\":{\"value\":0.1},\"line_color\":{\"field\":\"color\"},\"x\":{\"field\":\"x\"},\"y\":{\"field\":\"y\"}},\"id\":\"1039\",\"type\":\"Circle\"},{\"attributes\":{\"coordinates\":null,\"formatter\":{\"id\":\"1046\"},\"group\":null,\"major_label_policy\":{\"id\":\"1047\"},\"ticker\":{\"id\":\"1018\"},\"visible\":false},\"id\":\"1017\",\"type\":\"LinearAxis\"},{\"attributes\":{\"source\":{\"id\":\"1003\"}},\"id\":\"1042\",\"type\":\"CDSView\"},{\"attributes\":{},\"id\":\"1014\",\"type\":\"BasicTicker\"},{\"attributes\":{},\"id\":\"1009\",\"type\":\"LinearScale\"},{\"attributes\":{},\"id\":\"1024\",\"type\":\"SaveTool\"}],\"root_ids\":[\"1004\"]},\"title\":\"Bokeh Application\",\"version\":\"2.4.3\"}};\n  const render_items = [{\"docid\":\"df647190-be5b-499b-ab8e-266ba9531409\",\"root_ids\":[\"1004\"],\"roots\":{\"1004\":\"cdc79f00-36d1-4aa7-be71-3c481cae0de8\"}}];\n  root.Bokeh.embed.embed_items_notebook(docs_json, render_items);\n  }\n  if (root.Bokeh !== undefined) {\n    embed_document(root);\n  } else {\n    let attempts = 0;\n    const timer = setInterval(function(root) {\n      if (root.Bokeh !== undefined) {\n        clearInterval(timer);\n        embed_document(root);\n      } else {\n        attempts++;\n        if (attempts > 100) {\n          clearInterval(timer);\n          console.log(\"Bokeh: ERROR: Unable to run BokehJS code because BokehJS library is missing\");\n        }\n      }\n    }, 10, root)\n  }\n})(window);",
      "application/vnd.bokehjs_exec.v0+json": ""
     },
     "metadata": {
      "application/vnd.bokehjs_exec.v0+json": {
       "id": "1004"
      }
     },
     "output_type": "display_data"
    }
   ],
   "source": [
    "import umap.plot \n",
    "umap.plot.output_notebook()\n",
    "\n",
    "\n",
    "p = umap.plot.interactive(fit, labels=df['code'],\n",
    "                          hover_data=df[non_features],\n",
    "                          point_size=4,\n",
    "                          theme='fire',\n",
    "                          background='black',\n",
    "                          #color_key= ['FR', 'HAHF', 'HALF', 'LAHF', 'LALF', 'RP', 'background', 'null'],\n",
    "                          interactive_text_search_columns=True)\n",
    "#\n",
    "umap.plot.show(p)"
   ]
  },
  {
   "cell_type": "code",
   "execution_count": null,
   "metadata": {},
   "outputs": [],
   "source": [
    "from bokeh.plotting import figure, output_file, show\n",
    "from bokeh.models import ColumnDataSource, CustomJS\n",
    "from bokeh.layouts import row\n",
    "from bokeh.palettes import brewer\n",
    "from bokeh.io import  output_notebook\n",
    "output_notebook()\n",
    "\n",
    "colors = brewer[\"Spectral\"][len(df.code.unique())]\n",
    "colormap = {i: colors[i] for i in df.code.unique()}\n",
    "colors = [colormap[x] for x in df.code]\n",
    "df['color'] = colors\n",
    "\n",
    "tooltips = [\n",
    "    (\"day\", \"@day\"),\n",
    "    (\"event\", \"@event_name\"),\n",
    "    (\"subject\", \"@subject\")]\n",
    "\n",
    "s1 = ColumnDataSource(data=df[['x1','x2','day', 'event_name', 'subject', 'data', 'code', 'color']])\n",
    "p1 = figure(width=400, height=400, tools='tap,hover,pan,wheel_zoom,box_zoom,reset', title=\"UMAP\",\n",
    "            tooltips=tooltips)\n",
    "p1.scatter('x1', 'x2', source=s1, color='color')\n",
    "\n",
    "df2 = pd.DataFrame()\n",
    "df2['x'] =  np.arange(0,len(df['data'][0]))\n",
    "df2['y'] = df['data'].values[0]\n",
    "s2 = ColumnDataSource(data=df2)\n",
    "p2 = figure(width=400, height=400, title=\"Data\")\n",
    "p2.line('x', 'y', source=s2)\n",
    "\n",
    "s1.selected.js_on_change('indices', CustomJS(args=dict(s1=s1, s2=s2), code=\"\"\"\n",
    "        const inds = cb_obj.indices;\n",
    "        console.log(inds[0]);\n",
    "        const d2 = s2.data;\n",
    "        console.log(s1.data.data);\n",
    "        d2['x'] = []\n",
    "        d2['y'] = []\n",
    "        for (let i = 0; i < d2.index.length; i++) {\n",
    "            d2['x'].push(i)\n",
    "            d2['y'].push(s1.data.data[inds[0]][i])\n",
    "        }\n",
    "        s2.change.emit();\n",
    "    \"\"\")\n",
    ")\n",
    "\n",
    "\n",
    "#layout = row(p1, p2)\n",
    "show(row(p1, p2))\n",
    "#show(p2)"
   ]
  },
  {
   "cell_type": "code",
   "execution_count": null,
   "metadata": {},
   "outputs": [],
   "source": [
    "from bokeh.palettes import brewer\n",
    "from bokeh.io import  output_notebook\n",
    "output_notebook()\n",
    "\n",
    "colors = brewer[\"Spectral\"][len(df.code.unique())]\n",
    "colormap = {i: colors[i] for i in df.code.unique()}\n",
    "colors = [colormap[x] for x in df.code]\n",
    "df['color'] = colors\n",
    "\n",
    "tooltips = [\n",
    "    (\"day\", \"$day\"),\n",
    "    (\"event\", \"$event_name\"),\n",
    "    (\"subject\", \"$subject\")]\n",
    "\n",
    "s1 = ColumnDataSource(data=df[['x1','x2','day', 'event_name', 'subject', 'data', 'code', 'color']])\n",
    "p1 = figure(width=400, height=400, tools='tap,hover,pan,wheel_zoom,box_zoom,reset', title=\"UMAP\",\n",
    "            tooltips=tooltips)\n",
    "p1.scatter('x1', 'x2', source=s1)\n",
    "show(p1)"
   ]
  },
  {
   "cell_type": "code",
   "execution_count": null,
   "metadata": {
    "scrolled": true
   },
   "outputs": [],
   "source": [
    "day = 23\n",
    "subject = 11\n",
    "start = 1656\n",
    "raw = read_file(fr'V:\\\\switchdrive\\\\Brainhack\\\\KMR{subject}\\\\d{day}\\\\KMR{subject}_d{day}_Raw_DS.Avg_ref.sef')\n",
    "\n",
    "for band in bands:\n",
    "    raw_ = raw.copy().filter(band[0], band[1])\n",
    "    raw_.plot(scalings='auto', start=start, decim=1)"
   ]
  },
  {
   "cell_type": "code",
   "execution_count": null,
   "metadata": {},
   "outputs": [],
   "source": []
  }
 ],
 "metadata": {
  "kernelspec": {
   "display_name": "Python 3 (ipykernel)",
   "language": "python",
   "name": "python3"
  },
  "language_info": {
   "codemirror_mode": {
    "name": "ipython",
    "version": 3
   },
   "file_extension": ".py",
   "mimetype": "text/x-python",
   "name": "python",
   "nbconvert_exporter": "python",
   "pygments_lexer": "ipython3",
   "version": "3.10.11"
  },
  "vscode": {
   "interpreter": {
    "hash": "cbce18f089dd3a859c694fc9cb3e5910840ad7a47cd5eed605806d0498c40634"
   }
  }
 },
 "nbformat": 4,
 "nbformat_minor": 2
}
